{
 "cells": [
  {
   "cell_type": "markdown",
   "metadata": {},
   "source": [
    "# Haptocellular carcinoma Survial Prediction\n",
    "welcome to the prototype model for predicting the survival of patients with hepatocellular carcinoma.\n",
    "\n",
    "\n",
    "**in this prototype you will find :**\n",
    "- implementation of 3 algorithms : Logistic Regression, KNN and Naiieve Bayes\n",
    "- Data Preprocessing steps\n",
    "- Testing metrics (Accuracy, Senstivity and Specificity)\n",
    "\n",
    "\n",
    "**Our Goal is to achieve the highest accurate model in order to increase survival rates of the patients** "
   ]
  },
  {
   "cell_type": "markdown",
   "metadata": {},
   "source": [
    "## Importing the data \n",
    "lets see what our data is made of "
   ]
  },
  {
   "cell_type": "code",
   "execution_count": 1,
   "metadata": {},
   "outputs": [],
   "source": [
    "# turning warnings off and viewing the tables fully \n",
    "options(warn= -1)\n",
    "options(repr.matrix.max.rows=600, repr.matrix.max.cols=200)\n",
    "\n",
    "# importing the dataset \n",
    "data_dirty <- read.csv(\"hcc-data.txt\", na.strings = \"?\",col.names = c(\"Gender\"\n",
    ",\"Symptoms\"\n",
    ",\"Alcohol\"\n",
    ",\"HBsAg\"\n",
    ",\"HBeAg\"\n",
    ",\"HBcAb\"\n",
    ",\"HCVAb\"\n",
    ",\"Cirrhosis\"\n",
    ",\"Endemic\"\n",
    ",\"Smoking\"\n",
    ",\"Diabetes\"\n",
    ",\"Obesity\"\n",
    ",\"Hemochro\"\n",
    ",\"AHT\"\n",
    ",\"CRI\"\n",
    ",\"HIV\"\n",
    ",\"NASH\"\n",
    ",\"Varices\"\n",
    ",\"Spleno\"\n",
    ",\"PHT\"\n",
    ",\"PVT\"\n",
    ",\"Metastasis\"\n",
    ",\"Hallmark\"\n",
    ",\"Age\"\n",
    ",\"Grams_day\"\n",
    ",\"Packs_year\"\n",
    ",\"PS\"\n",
    ",\"Encephalopathy\"\n",
    ",\"Ascites\"\n",
    ",\"INR\"\n",
    ",\"AFP\"\n",
    ",\"Hemoglobin\"\n",
    ",\"MCV\"\n",
    ",\"Leucocytes\"\n",
    ",\"Platelets\"\n",
    ",\"Albumin\"\n",
    ",\"Total_Bil\"\n",
    ",\"ALT\"\n",
    ",\"AST\"\n",
    ",\"GGT\"\n",
    ",\"ALP\"\n",
    ",\"TP\"\n",
    ",\"Creatinine\"\n",
    ",\"Nodule\"\n",
    ",\"Major_Dim\"\n",
    ",\"Dir_Bil\"\n",
    ",\"Iron\"\n",
    ",\"Sat\"\n",
    ",\"Ferritin\"\n",
    ",\"Class\"))\n",
    "data_dirty$Class <- as.factor(data_dirty$Class)"
   ]
  },
  {
   "cell_type": "code",
   "execution_count": 2,
   "metadata": {},
   "outputs": [
    {
     "data": {
      "text/html": [
       "<table>\n",
       "<thead><tr><th scope=col>Gender</th><th scope=col>Symptoms</th><th scope=col>Alcohol</th><th scope=col>HBsAg</th><th scope=col>HBeAg</th><th scope=col>HBcAb</th><th scope=col>HCVAb</th><th scope=col>Cirrhosis</th><th scope=col>Endemic</th><th scope=col>Smoking</th><th scope=col>Diabetes</th><th scope=col>Obesity</th><th scope=col>Hemochro</th><th scope=col>AHT</th><th scope=col>CRI</th><th scope=col>HIV</th><th scope=col>NASH</th><th scope=col>Varices</th><th scope=col>Spleno</th><th scope=col>PHT</th><th scope=col>PVT</th><th scope=col>Metastasis</th><th scope=col>Hallmark</th><th scope=col>Age</th><th scope=col>Grams_day</th><th scope=col>Packs_year</th><th scope=col>PS</th><th scope=col>Encephalopathy</th><th scope=col>Ascites</th><th scope=col>INR</th><th scope=col>AFP</th><th scope=col>Hemoglobin</th><th scope=col>MCV</th><th scope=col>Leucocytes</th><th scope=col>Platelets</th><th scope=col>Albumin</th><th scope=col>Total_Bil</th><th scope=col>ALT</th><th scope=col>AST</th><th scope=col>GGT</th><th scope=col>ALP</th><th scope=col>TP</th><th scope=col>Creatinine</th><th scope=col>Nodule</th><th scope=col>Major_Dim</th><th scope=col>Dir_Bil</th><th scope=col>Iron</th><th scope=col>Sat</th><th scope=col>Ferritin</th><th scope=col>Class</th></tr></thead>\n",
       "<tbody>\n",
       "\t<tr><td>0     </td><td>NA    </td><td>0     </td><td>0     </td><td> 0    </td><td>0     </td><td>1     </td><td>1     </td><td>NA    </td><td>NA    </td><td>1     </td><td>0     </td><td> 0    </td><td>1     </td><td>0     </td><td>0     </td><td>0     </td><td>1     </td><td>0     </td><td>0     </td><td>0     </td><td>0     </td><td>1     </td><td>62    </td><td>  0   </td><td>NA    </td><td>0     </td><td>1     </td><td>1     </td><td>  NA  </td><td>    NA</td><td>  NA  </td><td>   NA </td><td> NA   </td><td>   NA </td><td>  NA  </td><td>  NA  </td><td> NA   </td><td> NA   </td><td> NA   </td><td> NA   </td><td> NA   </td><td>  NA  </td><td>1     </td><td> 1.8  </td><td>  NA  </td><td> NA   </td><td> NA   </td><td>  NA  </td><td>1     </td></tr>\n",
       "\t<tr><td>1     </td><td> 0    </td><td>1     </td><td>1     </td><td> 0    </td><td>1     </td><td>0     </td><td>1     </td><td> 0    </td><td> 1    </td><td>0     </td><td>0     </td><td> 0    </td><td>1     </td><td>1     </td><td>0     </td><td>0     </td><td>0     </td><td>0     </td><td>1     </td><td>0     </td><td>1     </td><td>1     </td><td>78    </td><td> 50   </td><td>50    </td><td>2     </td><td>1     </td><td>2     </td><td>0.96  </td><td>   5.8</td><td> 8.9  </td><td> 79.8 </td><td>8.4   </td><td>  472 </td><td>3.30  </td><td>0.40  </td><td> 58   </td><td> 68   </td><td>202   </td><td>109   </td><td>7.0   </td><td>2.10  </td><td>5     </td><td>13.0  </td><td>0.10  </td><td> 28   </td><td>  6   </td><td>  16  </td><td>1     </td></tr>\n",
       "\t<tr><td>1     </td><td> 1    </td><td>1     </td><td>0     </td><td> 0    </td><td>0     </td><td>0     </td><td>1     </td><td> 0    </td><td> 1    </td><td>1     </td><td>0     </td><td> 0    </td><td>1     </td><td>0     </td><td>0     </td><td>0     </td><td>0     </td><td>0     </td><td>0     </td><td>0     </td><td>1     </td><td>1     </td><td>77    </td><td> 40   </td><td>30    </td><td>0     </td><td>1     </td><td>1     </td><td>0.95  </td><td>2440.0</td><td>13.4  </td><td> 97.1 </td><td>9.0   </td><td>  279 </td><td>3.70  </td><td>0.40  </td><td> 16   </td><td> 64   </td><td> 94   </td><td>174   </td><td>8.1   </td><td>1.11  </td><td>2     </td><td>15.7  </td><td>0.20  </td><td> NA   </td><td> NA   </td><td>  NA  </td><td>0     </td></tr>\n",
       "\t<tr><td>1     </td><td> 1    </td><td>1     </td><td>1     </td><td> 0    </td><td>1     </td><td>0     </td><td>1     </td><td> 0    </td><td> 1    </td><td>0     </td><td>0     </td><td> 0    </td><td>1     </td><td>1     </td><td>0     </td><td>0     </td><td>0     </td><td>0     </td><td>0     </td><td>0     </td><td>0     </td><td>1     </td><td>76    </td><td>100   </td><td>30    </td><td>0     </td><td>1     </td><td>1     </td><td>0.94  </td><td>  49.0</td><td>14.3  </td><td> 95.1 </td><td>6.4   </td><td>  199 </td><td>4.10  </td><td>0.70  </td><td>147   </td><td>306   </td><td>173   </td><td>109   </td><td>6.9   </td><td>1.80  </td><td>1     </td><td> 9.0  </td><td>  NA  </td><td> 59   </td><td> 15   </td><td>  22  </td><td>1     </td></tr>\n",
       "\t<tr><td>1     </td><td> 0    </td><td>1     </td><td>0     </td><td>NA    </td><td>0     </td><td>0     </td><td>1     </td><td> 0    </td><td>NA    </td><td>0     </td><td>1     </td><td> 0    </td><td>0     </td><td>0     </td><td>0     </td><td>0     </td><td>1     </td><td>1     </td><td>1     </td><td>0     </td><td>0     </td><td>1     </td><td>75    </td><td> NA   </td><td>NA    </td><td>1     </td><td>1     </td><td>2     </td><td>1.58  </td><td> 110.0</td><td>13.4  </td><td> 91.5 </td><td>5.4   </td><td>   85 </td><td>3.40  </td><td>3.50  </td><td> 91   </td><td>122   </td><td>242   </td><td>396   </td><td>5.6   </td><td>0.90  </td><td>1     </td><td>10.0  </td><td>1.40  </td><td> 53   </td><td> 22   </td><td> 111  </td><td>0     </td></tr>\n",
       "\t<tr><td>1     </td><td> 0    </td><td>0     </td><td>0     </td><td>NA    </td><td>1     </td><td>1     </td><td>1     </td><td> 0    </td><td> 0    </td><td>1     </td><td>0     </td><td>NA    </td><td>0     </td><td>0     </td><td>0     </td><td>0     </td><td>0     </td><td>0     </td><td>0     </td><td>0     </td><td>0     </td><td>1     </td><td>49    </td><td>  0   </td><td> 0    </td><td>0     </td><td>1     </td><td>1     </td><td>1.40  </td><td> 138.9</td><td>10.4  </td><td>102.0 </td><td>3.2   </td><td>42000 </td><td>2.35  </td><td>2.72  </td><td>119   </td><td>183   </td><td>143   </td><td>211   </td><td>7.3   </td><td>0.80  </td><td>5     </td><td> 2.6  </td><td>2.19  </td><td>171   </td><td>126   </td><td>1452  </td><td>0     </td></tr>\n",
       "</tbody>\n",
       "</table>\n"
      ],
      "text/latex": [
       "\\begin{tabular}{r|llllllllllllllllllllllllllllllllllllllllllllllllll}\n",
       " Gender & Symptoms & Alcohol & HBsAg & HBeAg & HBcAb & HCVAb & Cirrhosis & Endemic & Smoking & Diabetes & Obesity & Hemochro & AHT & CRI & HIV & NASH & Varices & Spleno & PHT & PVT & Metastasis & Hallmark & Age & Grams\\_day & Packs\\_year & PS & Encephalopathy & Ascites & INR & AFP & Hemoglobin & MCV & Leucocytes & Platelets & Albumin & Total\\_Bil & ALT & AST & GGT & ALP & TP & Creatinine & Nodule & Major\\_Dim & Dir\\_Bil & Iron & Sat & Ferritin & Class\\\\\n",
       "\\hline\n",
       "\t 0      & NA     & 0      & 0      &  0     & 0      & 1      & 1      & NA     & NA     & 1      & 0      &  0     & 1      & 0      & 0      & 0      & 1      & 0      & 0      & 0      & 0      & 1      & 62     &   0    & NA     & 0      & 1      & 1      &   NA   &     NA &   NA   &    NA  &  NA    &    NA  &   NA   &   NA   &  NA    &  NA    &  NA    &  NA    &  NA    &   NA   & 1      &  1.8   &   NA   &  NA    &  NA    &   NA   & 1     \\\\\n",
       "\t 1      &  0     & 1      & 1      &  0     & 1      & 0      & 1      &  0     &  1     & 0      & 0      &  0     & 1      & 1      & 0      & 0      & 0      & 0      & 1      & 0      & 1      & 1      & 78     &  50    & 50     & 2      & 1      & 2      & 0.96   &    5.8 &  8.9   &  79.8  & 8.4    &   472  & 3.30   & 0.40   &  58    &  68    & 202    & 109    & 7.0    & 2.10   & 5      & 13.0   & 0.10   &  28    &   6    &   16   & 1     \\\\\n",
       "\t 1      &  1     & 1      & 0      &  0     & 0      & 0      & 1      &  0     &  1     & 1      & 0      &  0     & 1      & 0      & 0      & 0      & 0      & 0      & 0      & 0      & 1      & 1      & 77     &  40    & 30     & 0      & 1      & 1      & 0.95   & 2440.0 & 13.4   &  97.1  & 9.0    &   279  & 3.70   & 0.40   &  16    &  64    &  94    & 174    & 8.1    & 1.11   & 2      & 15.7   & 0.20   &  NA    &  NA    &   NA   & 0     \\\\\n",
       "\t 1      &  1     & 1      & 1      &  0     & 1      & 0      & 1      &  0     &  1     & 0      & 0      &  0     & 1      & 1      & 0      & 0      & 0      & 0      & 0      & 0      & 0      & 1      & 76     & 100    & 30     & 0      & 1      & 1      & 0.94   &   49.0 & 14.3   &  95.1  & 6.4    &   199  & 4.10   & 0.70   & 147    & 306    & 173    & 109    & 6.9    & 1.80   & 1      &  9.0   &   NA   &  59    &  15    &   22   & 1     \\\\\n",
       "\t 1      &  0     & 1      & 0      & NA     & 0      & 0      & 1      &  0     & NA     & 0      & 1      &  0     & 0      & 0      & 0      & 0      & 1      & 1      & 1      & 0      & 0      & 1      & 75     &  NA    & NA     & 1      & 1      & 2      & 1.58   &  110.0 & 13.4   &  91.5  & 5.4    &    85  & 3.40   & 3.50   &  91    & 122    & 242    & 396    & 5.6    & 0.90   & 1      & 10.0   & 1.40   &  53    &  22    &  111   & 0     \\\\\n",
       "\t 1      &  0     & 0      & 0      & NA     & 1      & 1      & 1      &  0     &  0     & 1      & 0      & NA     & 0      & 0      & 0      & 0      & 0      & 0      & 0      & 0      & 0      & 1      & 49     &   0    &  0     & 0      & 1      & 1      & 1.40   &  138.9 & 10.4   & 102.0  & 3.2    & 42000  & 2.35   & 2.72   & 119    & 183    & 143    & 211    & 7.3    & 0.80   & 5      &  2.6   & 2.19   & 171    & 126    & 1452   & 0     \\\\\n",
       "\\end{tabular}\n"
      ],
      "text/markdown": [
       "\n",
       "| Gender | Symptoms | Alcohol | HBsAg | HBeAg | HBcAb | HCVAb | Cirrhosis | Endemic | Smoking | Diabetes | Obesity | Hemochro | AHT | CRI | HIV | NASH | Varices | Spleno | PHT | PVT | Metastasis | Hallmark | Age | Grams_day | Packs_year | PS | Encephalopathy | Ascites | INR | AFP | Hemoglobin | MCV | Leucocytes | Platelets | Albumin | Total_Bil | ALT | AST | GGT | ALP | TP | Creatinine | Nodule | Major_Dim | Dir_Bil | Iron | Sat | Ferritin | Class |\n",
       "|---|---|---|---|---|---|---|---|---|---|---|---|---|---|---|---|---|---|---|---|---|---|---|---|---|---|---|---|---|---|---|---|---|---|---|---|---|---|---|---|---|---|---|---|---|---|---|---|---|---|\n",
       "| 0      | NA     | 0      | 0      |  0     | 0      | 1      | 1      | NA     | NA     | 1      | 0      |  0     | 1      | 0      | 0      | 0      | 1      | 0      | 0      | 0      | 0      | 1      | 62     |   0    | NA     | 0      | 1      | 1      |   NA   |     NA |   NA   |    NA  |  NA    |    NA  |   NA   |   NA   |  NA    |  NA    |  NA    |  NA    |  NA    |   NA   | 1      |  1.8   |   NA   |  NA    |  NA    |   NA   | 1      |\n",
       "| 1      |  0     | 1      | 1      |  0     | 1      | 0      | 1      |  0     |  1     | 0      | 0      |  0     | 1      | 1      | 0      | 0      | 0      | 0      | 1      | 0      | 1      | 1      | 78     |  50    | 50     | 2      | 1      | 2      | 0.96   |    5.8 |  8.9   |  79.8  | 8.4    |   472  | 3.30   | 0.40   |  58    |  68    | 202    | 109    | 7.0    | 2.10   | 5      | 13.0   | 0.10   |  28    |   6    |   16   | 1      |\n",
       "| 1      |  1     | 1      | 0      |  0     | 0      | 0      | 1      |  0     |  1     | 1      | 0      |  0     | 1      | 0      | 0      | 0      | 0      | 0      | 0      | 0      | 1      | 1      | 77     |  40    | 30     | 0      | 1      | 1      | 0.95   | 2440.0 | 13.4   |  97.1  | 9.0    |   279  | 3.70   | 0.40   |  16    |  64    |  94    | 174    | 8.1    | 1.11   | 2      | 15.7   | 0.20   |  NA    |  NA    |   NA   | 0      |\n",
       "| 1      |  1     | 1      | 1      |  0     | 1      | 0      | 1      |  0     |  1     | 0      | 0      |  0     | 1      | 1      | 0      | 0      | 0      | 0      | 0      | 0      | 0      | 1      | 76     | 100    | 30     | 0      | 1      | 1      | 0.94   |   49.0 | 14.3   |  95.1  | 6.4    |   199  | 4.10   | 0.70   | 147    | 306    | 173    | 109    | 6.9    | 1.80   | 1      |  9.0   |   NA   |  59    |  15    |   22   | 1      |\n",
       "| 1      |  0     | 1      | 0      | NA     | 0      | 0      | 1      |  0     | NA     | 0      | 1      |  0     | 0      | 0      | 0      | 0      | 1      | 1      | 1      | 0      | 0      | 1      | 75     |  NA    | NA     | 1      | 1      | 2      | 1.58   |  110.0 | 13.4   |  91.5  | 5.4    |    85  | 3.40   | 3.50   |  91    | 122    | 242    | 396    | 5.6    | 0.90   | 1      | 10.0   | 1.40   |  53    |  22    |  111   | 0      |\n",
       "| 1      |  0     | 0      | 0      | NA     | 1      | 1      | 1      |  0     |  0     | 1      | 0      | NA     | 0      | 0      | 0      | 0      | 0      | 0      | 0      | 0      | 0      | 1      | 49     |   0    |  0     | 0      | 1      | 1      | 1.40   |  138.9 | 10.4   | 102.0  | 3.2    | 42000  | 2.35   | 2.72   | 119    | 183    | 143    | 211    | 7.3    | 0.80   | 5      |  2.6   | 2.19   | 171    | 126    | 1452   | 0      |\n",
       "\n"
      ],
      "text/plain": [
       "  Gender Symptoms Alcohol HBsAg HBeAg HBcAb HCVAb Cirrhosis Endemic Smoking\n",
       "1 0      NA       0       0      0    0     1     1         NA      NA     \n",
       "2 1       0       1       1      0    1     0     1          0       1     \n",
       "3 1       1       1       0      0    0     0     1          0       1     \n",
       "4 1       1       1       1      0    1     0     1          0       1     \n",
       "5 1       0       1       0     NA    0     0     1          0      NA     \n",
       "6 1       0       0       0     NA    1     1     1          0       0     \n",
       "  Diabetes Obesity Hemochro AHT CRI HIV NASH Varices Spleno PHT PVT Metastasis\n",
       "1 1        0        0       1   0   0   0    1       0      0   0   0         \n",
       "2 0        0        0       1   1   0   0    0       0      1   0   1         \n",
       "3 1        0        0       1   0   0   0    0       0      0   0   1         \n",
       "4 0        0        0       1   1   0   0    0       0      0   0   0         \n",
       "5 0        1        0       0   0   0   0    1       1      1   0   0         \n",
       "6 1        0       NA       0   0   0   0    0       0      0   0   0         \n",
       "  Hallmark Age Grams_day Packs_year PS Encephalopathy Ascites INR  AFP   \n",
       "1 1        62    0       NA         0  1              1         NA     NA\n",
       "2 1        78   50       50         2  1              2       0.96    5.8\n",
       "3 1        77   40       30         0  1              1       0.95 2440.0\n",
       "4 1        76  100       30         0  1              1       0.94   49.0\n",
       "5 1        75   NA       NA         1  1              2       1.58  110.0\n",
       "6 1        49    0        0         0  1              1       1.40  138.9\n",
       "  Hemoglobin MCV   Leucocytes Platelets Albumin Total_Bil ALT AST GGT ALP TP \n",
       "1   NA          NA  NA           NA       NA      NA       NA  NA  NA  NA  NA\n",
       "2  8.9        79.8 8.4          472     3.30    0.40       58  68 202 109 7.0\n",
       "3 13.4        97.1 9.0          279     3.70    0.40       16  64  94 174 8.1\n",
       "4 14.3        95.1 6.4          199     4.10    0.70      147 306 173 109 6.9\n",
       "5 13.4        91.5 5.4           85     3.40    3.50       91 122 242 396 5.6\n",
       "6 10.4       102.0 3.2        42000     2.35    2.72      119 183 143 211 7.3\n",
       "  Creatinine Nodule Major_Dim Dir_Bil Iron Sat Ferritin Class\n",
       "1   NA       1       1.8        NA     NA   NA   NA     1    \n",
       "2 2.10       5      13.0      0.10     28    6   16     1    \n",
       "3 1.11       2      15.7      0.20     NA   NA   NA     0    \n",
       "4 1.80       1       9.0        NA     59   15   22     1    \n",
       "5 0.90       1      10.0      1.40     53   22  111     0    \n",
       "6 0.80       5       2.6      2.19    171  126 1452     0    "
      ]
     },
     "metadata": {},
     "output_type": "display_data"
    }
   ],
   "source": [
    "head(data_dirty)"
   ]
  },
  {
   "cell_type": "code",
   "execution_count": 3,
   "metadata": {},
   "outputs": [
    {
     "data": {
      "text/plain": [
       "     Gender          Symptoms         Alcohol           HBsAg       \n",
       " Min.   :0.0000   Min.   :0.0000   Min.   :0.0000   Min.   :0.0000  \n",
       " 1st Qu.:1.0000   1st Qu.:0.0000   1st Qu.:0.0000   1st Qu.:0.0000  \n",
       " Median :1.0000   Median :1.0000   Median :1.0000   Median :0.0000  \n",
       " Mean   :0.8049   Mean   :0.6438   Mean   :0.7378   Mean   :0.1088  \n",
       " 3rd Qu.:1.0000   3rd Qu.:1.0000   3rd Qu.:1.0000   3rd Qu.:0.0000  \n",
       " Max.   :1.0000   Max.   :1.0000   Max.   :1.0000   Max.   :1.0000  \n",
       "                  NA's   :18                        NA's   :17      \n",
       "     HBeAg           HBcAb            HCVAb          Cirrhosis     \n",
       " Min.   :0.000   Min.   :0.0000   Min.   :0.0000   Min.   :0.0000  \n",
       " 1st Qu.:0.000   1st Qu.:0.0000   1st Qu.:0.0000   1st Qu.:1.0000  \n",
       " Median :0.000   Median :0.0000   Median :0.0000   Median :1.0000  \n",
       " Mean   :0.008   Mean   :0.2714   Mean   :0.2194   Mean   :0.9024  \n",
       " 3rd Qu.:0.000   3rd Qu.:1.0000   3rd Qu.:0.0000   3rd Qu.:1.0000  \n",
       " Max.   :1.000   Max.   :1.0000   Max.   :1.0000   Max.   :1.0000  \n",
       " NA's   :39      NA's   :24       NA's   :9                        \n",
       "    Endemic        Smoking          Diabetes         Obesity     \n",
       " Min.   :0.00   Min.   :0.0000   Min.   :0.0000   Min.   :0.000  \n",
       " 1st Qu.:0.00   1st Qu.:0.0000   1st Qu.:0.0000   1st Qu.:0.000  \n",
       " Median :0.00   Median :1.0000   Median :0.0000   Median :0.000  \n",
       " Mean   :0.08   Mean   :0.5041   Mean   :0.3416   Mean   :0.129  \n",
       " 3rd Qu.:0.00   3rd Qu.:1.0000   3rd Qu.:1.0000   3rd Qu.:0.000  \n",
       " Max.   :1.00   Max.   :1.0000   Max.   :1.0000   Max.   :1.000  \n",
       " NA's   :39     NA's   :41       NA's   :3        NA's   :9      \n",
       "    Hemochro            AHT              CRI              HIV      \n",
       " Min.   :0.00000   Min.   :0.0000   Min.   :0.0000   Min.   :0.00  \n",
       " 1st Qu.:0.00000   1st Qu.:0.0000   1st Qu.:0.0000   1st Qu.:0.00  \n",
       " Median :0.00000   Median :0.0000   Median :0.0000   Median :0.00  \n",
       " Mean   :0.04255   Mean   :0.3665   Mean   :0.1235   Mean   :0.02  \n",
       " 3rd Qu.:0.00000   3rd Qu.:1.0000   3rd Qu.:0.0000   3rd Qu.:0.00  \n",
       " Max.   :1.00000   Max.   :1.0000   Max.   :1.0000   Max.   :1.00  \n",
       " NA's   :23        NA's   :3        NA's   :2        NA's   :14    \n",
       "      NASH            Varices           Spleno            PHT       \n",
       " Min.   :0.00000   Min.   :0.0000   Min.   :0.0000   Min.   :0.000  \n",
       " 1st Qu.:0.00000   1st Qu.:0.0000   1st Qu.:0.0000   1st Qu.:0.000  \n",
       " Median :0.00000   Median :1.0000   Median :1.0000   Median :1.000  \n",
       " Mean   :0.05634   Mean   :0.6071   Mean   :0.5638   Mean   :0.719  \n",
       " 3rd Qu.:0.00000   3rd Qu.:1.0000   3rd Qu.:1.0000   3rd Qu.:1.000  \n",
       " Max.   :1.00000   Max.   :1.0000   Max.   :1.0000   Max.   :1.000  \n",
       " NA's   :22        NA's   :52       NA's   :15       NA's   :11     \n",
       "      PVT           Metastasis       Hallmark          Age       \n",
       " Min.   :0.0000   Min.   :0.000   Min.   :0.000   Min.   :20.00  \n",
       " 1st Qu.:0.0000   1st Qu.:0.000   1st Qu.:0.000   1st Qu.:57.00  \n",
       " Median :0.0000   Median :0.000   Median :1.000   Median :66.00  \n",
       " Mean   :0.2236   Mean   :0.225   Mean   :0.679   Mean   :64.68  \n",
       " 3rd Qu.:0.0000   3rd Qu.:0.000   3rd Qu.:1.000   3rd Qu.:74.00  \n",
       " Max.   :1.0000   Max.   :1.000   Max.   :1.000   Max.   :93.00  \n",
       " NA's   :3        NA's   :4       NA's   :2                      \n",
       "   Grams_day        Packs_year           PS        Encephalopathy\n",
       " Min.   :  0.00   Min.   :  0.00   Min.   :0.000   Min.   :1.00  \n",
       " 1st Qu.:  0.00   1st Qu.:  0.00   1st Qu.:0.000   1st Qu.:1.00  \n",
       " Median : 75.00   Median :  0.00   Median :1.000   Median :1.00  \n",
       " Mean   : 70.44   Mean   : 20.51   Mean   :1.024   Mean   :1.16  \n",
       " 3rd Qu.:100.00   3rd Qu.: 31.00   3rd Qu.:2.000   3rd Qu.:1.00  \n",
       " Max.   :500.00   Max.   :510.00   Max.   :4.000   Max.   :3.00  \n",
       " NA's   :48       NA's   :53                       NA's   :1     \n",
       "    Ascites           INR             AFP              Hemoglobin   \n",
       " Min.   :1.000   Min.   :0.840   Min.   :      1.2   Min.   : 5.00  \n",
       " 1st Qu.:1.000   1st Qu.:1.170   1st Qu.:      5.2   1st Qu.:11.40  \n",
       " Median :1.000   Median :1.295   Median :     32.5   Median :13.00  \n",
       " Mean   :1.444   Mean   :1.421   Mean   :  19423.1   Mean   :12.87  \n",
       " 3rd Qu.:2.000   3rd Qu.:1.530   3rd Qu.:    619.5   3rd Qu.:14.60  \n",
       " Max.   :3.000   Max.   :4.820   Max.   :1810346.0   Max.   :18.70  \n",
       " NA's   :2       NA's   :4       NA's   :8           NA's   :3      \n",
       "      MCV           Leucocytes        Platelets           Albumin     \n",
       " Min.   : 69.50   Min.   :    2.2   Min.   :     1.7   Min.   :1.900  \n",
       " 1st Qu.: 89.70   1st Qu.:    5.1   1st Qu.:   270.0   1st Qu.:3.000  \n",
       " Median : 94.80   Median :    7.2   Median : 93000.0   Median :3.400  \n",
       " Mean   : 95.05   Mean   : 1483.1   Mean   :113909.0   Mean   :3.446  \n",
       " 3rd Qu.:100.30   3rd Qu.:   20.9   3rd Qu.:172000.0   3rd Qu.:4.075  \n",
       " Max.   :119.60   Max.   :13000.0   Max.   :459000.0   Max.   :4.900  \n",
       " NA's   :3        NA's   :3         NA's   :3          NA's   :6      \n",
       "   Total_Bil           ALT              AST              GGT        \n",
       " Min.   : 0.300   Min.   : 11.00   Min.   : 17.00   Min.   :  23.0  \n",
       " 1st Qu.: 0.800   1st Qu.: 31.00   1st Qu.: 47.00   1st Qu.:  91.0  \n",
       " Median : 1.400   Median : 50.00   Median : 71.00   Median : 179.0  \n",
       " Mean   : 3.094   Mean   : 67.30   Mean   : 96.73   Mean   : 268.6  \n",
       " 3rd Qu.: 2.950   3rd Qu.: 78.25   3rd Qu.:111.00   3rd Qu.: 346.0  \n",
       " Max.   :40.500   Max.   :420.00   Max.   :553.00   Max.   :1575.0  \n",
       " NA's   :5        NA's   :4        NA's   :3        NA's   :3       \n",
       "      ALP               TP            Creatinine       Nodule     \n",
       " Min.   :  1.28   Min.   :  3.900   Min.   :0.20   Min.   :0.000  \n",
       " 1st Qu.:108.00   1st Qu.:  6.300   1st Qu.:0.70   1st Qu.:1.000  \n",
       " Median :163.00   Median :  7.000   Median :0.85   Median :2.000  \n",
       " Mean   :212.60   Mean   :  8.973   Mean   :1.13   Mean   :2.747  \n",
       " 3rd Qu.:262.00   3rd Qu.:  7.600   3rd Qu.:1.10   3rd Qu.:5.000  \n",
       " Max.   :980.00   Max.   :102.000   Max.   :7.60   Max.   :5.000  \n",
       " NA's   :3        NA's   :11        NA's   :7      NA's   :2      \n",
       "   Major_Dim         Dir_Bil            Iron            Sat        \n",
       " Min.   : 1.500   Min.   : 0.100   Min.   :  0.0   Min.   :  0.00  \n",
       " 1st Qu.: 3.000   1st Qu.: 0.360   1st Qu.: 40.5   1st Qu.: 16.00  \n",
       " Median : 5.200   Median : 0.700   Median : 83.0   Median : 27.00  \n",
       " Mean   : 6.874   Mean   : 1.942   Mean   : 85.6   Mean   : 37.03  \n",
       " 3rd Qu.: 9.000   3rd Qu.: 1.400   3rd Qu.:118.0   3rd Qu.: 56.00  \n",
       " Max.   :22.000   Max.   :29.300   Max.   :224.0   Max.   :126.00  \n",
       " NA's   :20       NA's   :44       NA's   :78      NA's   :79      \n",
       "    Ferritin    Class  \n",
       " Min.   :   0   0: 63  \n",
       " 1st Qu.:  84   1:101  \n",
       " Median : 295          \n",
       " Mean   : 439          \n",
       " 3rd Qu.: 706          \n",
       " Max.   :2230          \n",
       " NA's   :79            "
      ]
     },
     "metadata": {},
     "output_type": "display_data"
    }
   ],
   "source": [
    "summary(data_dirty)"
   ]
  },
  {
   "cell_type": "code",
   "execution_count": 4,
   "metadata": {},
   "outputs": [
    {
     "name": "stdout",
     "output_type": "stream",
     "text": [
      "'data.frame':\t164 obs. of  50 variables:\n",
      " $ Gender        : int  0 1 1 1 1 1 1 1 1 1 ...\n",
      " $ Symptoms      : int  NA 0 1 1 0 0 1 1 1 0 ...\n",
      " $ Alcohol       : int  0 1 1 1 1 0 1 1 1 1 ...\n",
      " $ HBsAg         : int  0 1 0 1 0 0 0 0 0 0 ...\n",
      " $ HBeAg         : int  0 0 0 0 NA NA NA 0 0 0 ...\n",
      " $ HBcAb         : int  0 1 0 1 0 1 0 0 0 0 ...\n",
      " $ HCVAb         : int  1 0 0 0 0 1 0 0 0 1 ...\n",
      " $ Cirrhosis     : int  1 1 1 1 1 1 1 1 1 1 ...\n",
      " $ Endemic       : int  NA 0 0 0 0 0 0 0 0 NA ...\n",
      " $ Smoking       : int  NA 1 1 1 NA 0 1 1 0 NA ...\n",
      " $ Diabetes      : int  1 0 1 0 0 1 1 1 0 0 ...\n",
      " $ Obesity       : int  0 0 0 0 1 0 NA 0 0 0 ...\n",
      " $ Hemochro      : int  0 0 0 0 0 NA 0 0 1 0 ...\n",
      " $ AHT           : int  1 1 1 1 0 0 0 1 0 0 ...\n",
      " $ CRI           : int  0 1 0 1 0 0 0 0 0 0 ...\n",
      " $ HIV           : int  0 0 0 0 0 0 0 0 0 0 ...\n",
      " $ NASH          : int  0 0 0 0 0 0 0 0 0 0 ...\n",
      " $ Varices       : int  1 0 0 0 1 0 0 NA 0 NA ...\n",
      " $ Spleno        : int  0 0 0 0 1 0 1 1 1 1 ...\n",
      " $ PHT           : int  0 1 0 0 1 0 1 1 0 1 ...\n",
      " $ PVT           : int  0 0 0 0 0 0 1 0 0 0 ...\n",
      " $ Metastasis    : int  0 1 1 0 0 0 0 0 0 0 ...\n",
      " $ Hallmark      : int  1 1 1 1 1 1 1 1 0 1 ...\n",
      " $ Age           : int  62 78 77 76 75 49 61 50 43 41 ...\n",
      " $ Grams_day     : int  0 50 40 100 NA 0 NA 100 100 NA ...\n",
      " $ Packs_year    : num  NA 50 30 30 NA 0 20 32 0 NA ...\n",
      " $ PS            : int  0 2 0 0 1 0 3 1 0 0 ...\n",
      " $ Encephalopathy: int  1 1 1 1 1 1 1 1 1 1 ...\n",
      " $ Ascites       : int  1 2 1 1 2 1 1 2 1 2 ...\n",
      " $ INR           : num  NA 0.96 0.95 0.94 1.58 1.4 1.46 3.14 1.12 1.05 ...\n",
      " $ AFP           : num  NA 5.8 2440 49 110 ...\n",
      " $ Hemoglobin    : num  NA 8.9 13.4 14.3 13.4 10.4 10.8 11.9 11.8 13 ...\n",
      " $ MCV           : num  NA 79.8 97.1 95.1 91.5 ...\n",
      " $ Leucocytes    : num  NA 8.4 9 6.4 5.4 3.2 3 4.9 5100 5.7 ...\n",
      " $ Platelets     : num  NA 472 279 199 85 42000 58 70 193000 196 ...\n",
      " $ Albumin       : num  NA 3.3 3.7 4.1 3.4 2.35 3.1 1.9 4.2 4.4 ...\n",
      " $ Total_Bil     : num  NA 0.4 0.4 0.7 3.5 2.72 3.2 3.3 0.5 3 ...\n",
      " $ ALT           : int  NA 58 16 147 91 119 79 26 71 90 ...\n",
      " $ AST           : int  NA 68 64 306 122 183 108 59 45 334 ...\n",
      " $ GGT           : num  NA 202 94 173 242 143 184 115 256 494 ...\n",
      " $ ALP           : num  NA 109 174 109 396 211 300 63 303 236 ...\n",
      " $ TP            : num  NA 7 8.1 6.9 5.6 7.3 7.1 6.1 7.1 7.6 ...\n",
      " $ Creatinine    : num  NA 2.1 1.11 1.8 0.9 0.8 0.52 0.59 0.59 0.8 ...\n",
      " $ Nodule        : int  1 5 2 1 1 5 2 1 1 5 ...\n",
      " $ Major_Dim     : num  1.8 13 15.7 9 10 2.6 9 6.4 9.3 NA ...\n",
      " $ Dir_Bil       : num  NA 0.1 0.2 NA 1.4 2.19 1.3 1.2 0.7 1.1 ...\n",
      " $ Iron          : num  NA 28 NA 59 53 171 42 85 NA NA ...\n",
      " $ Sat           : num  NA 6 NA 15 22 126 25 73 NA NA ...\n",
      " $ Ferritin      : num  NA 16 NA 22 111 ...\n",
      " $ Class         : Factor w/ 2 levels \"0\",\"1\": 2 2 1 2 1 1 1 2 2 1 ...\n"
     ]
    }
   ],
   "source": [
    "str(data_dirty)"
   ]
  },
  {
   "cell_type": "code",
   "execution_count": 5,
   "metadata": {},
   "outputs": [
    {
     "data": {
      "text/html": [
       "<dl class=dl-horizontal>\n",
       "\t<dt>Gender</dt>\n",
       "\t\t<dd>0</dd>\n",
       "\t<dt>Symptoms</dt>\n",
       "\t\t<dd>18</dd>\n",
       "\t<dt>Alcohol</dt>\n",
       "\t\t<dd>0</dd>\n",
       "\t<dt>HBsAg</dt>\n",
       "\t\t<dd>17</dd>\n",
       "\t<dt>HBeAg</dt>\n",
       "\t\t<dd>39</dd>\n",
       "\t<dt>HBcAb</dt>\n",
       "\t\t<dd>24</dd>\n",
       "\t<dt>HCVAb</dt>\n",
       "\t\t<dd>9</dd>\n",
       "\t<dt>Cirrhosis</dt>\n",
       "\t\t<dd>0</dd>\n",
       "\t<dt>Endemic</dt>\n",
       "\t\t<dd>39</dd>\n",
       "\t<dt>Smoking</dt>\n",
       "\t\t<dd>41</dd>\n",
       "\t<dt>Diabetes</dt>\n",
       "\t\t<dd>3</dd>\n",
       "\t<dt>Obesity</dt>\n",
       "\t\t<dd>9</dd>\n",
       "\t<dt>Hemochro</dt>\n",
       "\t\t<dd>23</dd>\n",
       "\t<dt>AHT</dt>\n",
       "\t\t<dd>3</dd>\n",
       "\t<dt>CRI</dt>\n",
       "\t\t<dd>2</dd>\n",
       "\t<dt>HIV</dt>\n",
       "\t\t<dd>14</dd>\n",
       "\t<dt>NASH</dt>\n",
       "\t\t<dd>22</dd>\n",
       "\t<dt>Varices</dt>\n",
       "\t\t<dd>52</dd>\n",
       "\t<dt>Spleno</dt>\n",
       "\t\t<dd>15</dd>\n",
       "\t<dt>PHT</dt>\n",
       "\t\t<dd>11</dd>\n",
       "\t<dt>PVT</dt>\n",
       "\t\t<dd>3</dd>\n",
       "\t<dt>Metastasis</dt>\n",
       "\t\t<dd>4</dd>\n",
       "\t<dt>Hallmark</dt>\n",
       "\t\t<dd>2</dd>\n",
       "\t<dt>Age</dt>\n",
       "\t\t<dd>0</dd>\n",
       "\t<dt>Grams_day</dt>\n",
       "\t\t<dd>48</dd>\n",
       "\t<dt>Packs_year</dt>\n",
       "\t\t<dd>53</dd>\n",
       "\t<dt>PS</dt>\n",
       "\t\t<dd>0</dd>\n",
       "\t<dt>Encephalopathy</dt>\n",
       "\t\t<dd>1</dd>\n",
       "\t<dt>Ascites</dt>\n",
       "\t\t<dd>2</dd>\n",
       "\t<dt>INR</dt>\n",
       "\t\t<dd>4</dd>\n",
       "\t<dt>AFP</dt>\n",
       "\t\t<dd>8</dd>\n",
       "\t<dt>Hemoglobin</dt>\n",
       "\t\t<dd>3</dd>\n",
       "\t<dt>MCV</dt>\n",
       "\t\t<dd>3</dd>\n",
       "\t<dt>Leucocytes</dt>\n",
       "\t\t<dd>3</dd>\n",
       "\t<dt>Platelets</dt>\n",
       "\t\t<dd>3</dd>\n",
       "\t<dt>Albumin</dt>\n",
       "\t\t<dd>6</dd>\n",
       "\t<dt>Total_Bil</dt>\n",
       "\t\t<dd>5</dd>\n",
       "\t<dt>ALT</dt>\n",
       "\t\t<dd>4</dd>\n",
       "\t<dt>AST</dt>\n",
       "\t\t<dd>3</dd>\n",
       "\t<dt>GGT</dt>\n",
       "\t\t<dd>3</dd>\n",
       "\t<dt>ALP</dt>\n",
       "\t\t<dd>3</dd>\n",
       "\t<dt>TP</dt>\n",
       "\t\t<dd>11</dd>\n",
       "\t<dt>Creatinine</dt>\n",
       "\t\t<dd>7</dd>\n",
       "\t<dt>Nodule</dt>\n",
       "\t\t<dd>2</dd>\n",
       "\t<dt>Major_Dim</dt>\n",
       "\t\t<dd>20</dd>\n",
       "\t<dt>Dir_Bil</dt>\n",
       "\t\t<dd>44</dd>\n",
       "\t<dt>Iron</dt>\n",
       "\t\t<dd>78</dd>\n",
       "\t<dt>Sat</dt>\n",
       "\t\t<dd>79</dd>\n",
       "\t<dt>Ferritin</dt>\n",
       "\t\t<dd>79</dd>\n",
       "\t<dt>Class</dt>\n",
       "\t\t<dd>0</dd>\n",
       "</dl>\n"
      ],
      "text/latex": [
       "\\begin{description*}\n",
       "\\item[Gender] 0\n",
       "\\item[Symptoms] 18\n",
       "\\item[Alcohol] 0\n",
       "\\item[HBsAg] 17\n",
       "\\item[HBeAg] 39\n",
       "\\item[HBcAb] 24\n",
       "\\item[HCVAb] 9\n",
       "\\item[Cirrhosis] 0\n",
       "\\item[Endemic] 39\n",
       "\\item[Smoking] 41\n",
       "\\item[Diabetes] 3\n",
       "\\item[Obesity] 9\n",
       "\\item[Hemochro] 23\n",
       "\\item[AHT] 3\n",
       "\\item[CRI] 2\n",
       "\\item[HIV] 14\n",
       "\\item[NASH] 22\n",
       "\\item[Varices] 52\n",
       "\\item[Spleno] 15\n",
       "\\item[PHT] 11\n",
       "\\item[PVT] 3\n",
       "\\item[Metastasis] 4\n",
       "\\item[Hallmark] 2\n",
       "\\item[Age] 0\n",
       "\\item[Grams\\textbackslash{}\\_day] 48\n",
       "\\item[Packs\\textbackslash{}\\_year] 53\n",
       "\\item[PS] 0\n",
       "\\item[Encephalopathy] 1\n",
       "\\item[Ascites] 2\n",
       "\\item[INR] 4\n",
       "\\item[AFP] 8\n",
       "\\item[Hemoglobin] 3\n",
       "\\item[MCV] 3\n",
       "\\item[Leucocytes] 3\n",
       "\\item[Platelets] 3\n",
       "\\item[Albumin] 6\n",
       "\\item[Total\\textbackslash{}\\_Bil] 5\n",
       "\\item[ALT] 4\n",
       "\\item[AST] 3\n",
       "\\item[GGT] 3\n",
       "\\item[ALP] 3\n",
       "\\item[TP] 11\n",
       "\\item[Creatinine] 7\n",
       "\\item[Nodule] 2\n",
       "\\item[Major\\textbackslash{}\\_Dim] 20\n",
       "\\item[Dir\\textbackslash{}\\_Bil] 44\n",
       "\\item[Iron] 78\n",
       "\\item[Sat] 79\n",
       "\\item[Ferritin] 79\n",
       "\\item[Class] 0\n",
       "\\end{description*}\n"
      ],
      "text/markdown": [
       "Gender\n",
       ":   0Symptoms\n",
       ":   18Alcohol\n",
       ":   0HBsAg\n",
       ":   17HBeAg\n",
       ":   39HBcAb\n",
       ":   24HCVAb\n",
       ":   9Cirrhosis\n",
       ":   0Endemic\n",
       ":   39Smoking\n",
       ":   41Diabetes\n",
       ":   3Obesity\n",
       ":   9Hemochro\n",
       ":   23AHT\n",
       ":   3CRI\n",
       ":   2HIV\n",
       ":   14NASH\n",
       ":   22Varices\n",
       ":   52Spleno\n",
       ":   15PHT\n",
       ":   11PVT\n",
       ":   3Metastasis\n",
       ":   4Hallmark\n",
       ":   2Age\n",
       ":   0Grams_day\n",
       ":   48Packs_year\n",
       ":   53PS\n",
       ":   0Encephalopathy\n",
       ":   1Ascites\n",
       ":   2INR\n",
       ":   4AFP\n",
       ":   8Hemoglobin\n",
       ":   3MCV\n",
       ":   3Leucocytes\n",
       ":   3Platelets\n",
       ":   3Albumin\n",
       ":   6Total_Bil\n",
       ":   5ALT\n",
       ":   4AST\n",
       ":   3GGT\n",
       ":   3ALP\n",
       ":   3TP\n",
       ":   11Creatinine\n",
       ":   7Nodule\n",
       ":   2Major_Dim\n",
       ":   20Dir_Bil\n",
       ":   44Iron\n",
       ":   78Sat\n",
       ":   79Ferritin\n",
       ":   79Class\n",
       ":   0\n",
       "\n"
      ],
      "text/plain": [
       "        Gender       Symptoms        Alcohol          HBsAg          HBeAg \n",
       "             0             18              0             17             39 \n",
       "         HBcAb          HCVAb      Cirrhosis        Endemic        Smoking \n",
       "            24              9              0             39             41 \n",
       "      Diabetes        Obesity       Hemochro            AHT            CRI \n",
       "             3              9             23              3              2 \n",
       "           HIV           NASH        Varices         Spleno            PHT \n",
       "            14             22             52             15             11 \n",
       "           PVT     Metastasis       Hallmark            Age      Grams_day \n",
       "             3              4              2              0             48 \n",
       "    Packs_year             PS Encephalopathy        Ascites            INR \n",
       "            53              0              1              2              4 \n",
       "           AFP     Hemoglobin            MCV     Leucocytes      Platelets \n",
       "             8              3              3              3              3 \n",
       "       Albumin      Total_Bil            ALT            AST            GGT \n",
       "             6              5              4              3              3 \n",
       "           ALP             TP     Creatinine         Nodule      Major_Dim \n",
       "             3             11              7              2             20 \n",
       "       Dir_Bil           Iron            Sat       Ferritin          Class \n",
       "            44             78             79             79              0 "
      ]
     },
     "metadata": {},
     "output_type": "display_data"
    }
   ],
   "source": [
    "sapply(data_dirty, function(x) sum(is.na(x)))"
   ]
  },
  {
   "cell_type": "markdown",
   "metadata": {},
   "source": [
    "**from the summary we deduce that:**\n",
    "- there are high ratios of missing values \n",
    "- high sparsity between values of the featuers "
   ]
  },
  {
   "cell_type": "markdown",
   "metadata": {},
   "source": [
    "## Preprocessing the Data\n",
    "\n",
    "### Data Imputation\n",
    "**the first step in our preprocessing stage**\n",
    "\n",
    "we used mice package for prediction of the missing vales "
   ]
  },
  {
   "cell_type": "code",
   "execution_count": 6,
   "metadata": {},
   "outputs": [
    {
     "name": "stderr",
     "output_type": "stream",
     "text": [
      "Loading required package: lattice\n",
      "\n",
      "Attaching package: ‘mice’\n",
      "\n",
      "The following objects are masked from ‘package:base’:\n",
      "\n",
      "    cbind, rbind\n",
      "\n"
     ]
    }
   ],
   "source": [
    "library(\"mice\")"
   ]
  },
  {
   "cell_type": "markdown",
   "metadata": {},
   "source": [
    "#### most of our features are an important predictors so we will use them in imputing the missing \n",
    "let\\`s split the data first to categorical and nominal values"
   ]
  },
  {
   "cell_type": "markdown",
   "metadata": {},
   "source": [
    "**from looking into the data set here are the categorical featres** \n",
    "\"Gender\"\n",
    ",\"Symptoms\"\n",
    ",\"Alcohol\"\n",
    ",\"HBsAg\"\n",
    ",\"HBeAg\"\n",
    ",\"HBcAb\"\n",
    ",\"HCVAb\"\n",
    ",\"Cirrhosis\"\n",
    ",\"Endemic\"\n",
    ",\"Smoking\"\n",
    ",\"Diabetes\"\n",
    ",\"Obesity\"\n",
    ",\"Hemochro\"\n",
    ",\"AHT\"\n",
    ",\"CRI\"\n",
    ",\"HIV\"\n",
    ",\"NASH\"\n",
    ",\"Varices\"\n",
    ",\"Spleno\"\n",
    ",\"PHT\"\n",
    ",\"PVT\"\n",
    ",\"Metastasis\"\n",
    ",\"Hallmark\"\n",
    ",\"PS\"\n",
    ",\"Encephalopathy\"\n",
    ",\"Ascites\"\n",
    "\n",
    "**the nominal features are the rest** "
   ]
  },
  {
   "cell_type": "code",
   "execution_count": 7,
   "metadata": {},
   "outputs": [],
   "source": [
    "# initializing the object with zero iterations \n",
    "# setting the methods for both categorical and numerical features \n",
    "init = mice(data_dirty, maxit=0) \n",
    "meth = init$method"
   ]
  },
  {
   "cell_type": "markdown",
   "metadata": {},
   "source": [
    "**we used Predictive Mean Matching Method for both for now**\n",
    "\n",
    "using different methods is still under testing for future stages of our prototype "
   ]
  },
  {
   "cell_type": "code",
   "execution_count": 8,
   "metadata": {},
   "outputs": [],
   "source": [
    "# importing categorical features \n",
    "meth[c(\"Gender\"\n",
    ",\"Symptoms\"\n",
    ",\"Alcohol\"\n",
    ",\"HBsAg\"\n",
    ",\"HBeAg\"\n",
    ",\"HBcAb\"\n",
    ",\"HCVAb\"\n",
    ",\"Cirrhosis\"\n",
    ",\"Endemic\"\n",
    ",\"Smoking\"\n",
    ",\"Diabetes\"\n",
    ",\"Obesity\"\n",
    ",\"Hemochro\"\n",
    ",\"AHT\"\n",
    ",\"CRI\"\n",
    ",\"HIV\"\n",
    ",\"NASH\"\n",
    ",\"Varices\"\n",
    ",\"Spleno\"\n",
    ",\"PHT\"\n",
    ",\"PVT\"\n",
    ",\"Metastasis\"\n",
    ",\"Hallmark\"\n",
    ",\"PS\"\n",
    ",\"Encephalopathy\"\n",
    ",\"Ascites\")] = \"rf\"\n",
    "\n",
    "# importing numerical features \n",
    "meth[c(\"Age\"\n",
    ",\"Grams_day\"\n",
    ",\"Packs_year\"\n",
    ",\"INR\"\n",
    ",\"AFP\"\n",
    ",\"Hemoglobin\"\n",
    ",\"MCV\"\n",
    ",\"Leucocytes\"\n",
    ",\"Platelets\"\n",
    ",\"Albumin\"\n",
    ",\"Total_Bil\"\n",
    ",\"ALT\"\n",
    ",\"AST\"\n",
    ",\"GGT\"\n",
    ",\"ALP\"\n",
    ",\"TP\"\n",
    ",\"Creatinine\"\n",
    ",\"Nodule\"\n",
    ",\"Major_Dim\"\n",
    ",\"Dir_Bil\"\n",
    ",\"Iron\"\n",
    ",\"Sat\"\n",
    ",\"Ferritin\")] = \"mean\"\n",
    "\n",
    "# # restricting the imputation of class \n",
    "# meth[c(\"Class\")] = \"\""
   ]
  },
  {
   "cell_type": "code",
   "execution_count": 9,
   "metadata": {},
   "outputs": [
    {
     "name": "stdout",
     "output_type": "stream",
     "text": [
      "\n",
      " iter imp variable\n",
      "  1   1  Symptoms  HBsAg  HBeAg  HBcAb  HCVAb  Endemic  Smoking  Diabetes  Obesity  Hemochro  AHT  CRI  HIV  NASH  Varices  Spleno  PHT  PVT  Metastasis  Hallmark  Grams_day  Packs_year  Encephalopathy  Ascites  INR  AFP  Hemoglobin  MCV  Leucocytes  Platelets  Albumin  Total_Bil  ALT  AST  GGT  ALP  TP  Creatinine  Nodule  Major_Dim  Dir_Bil  Iron  Sat  Ferritin\n",
      "  1   2  Symptoms  HBsAg  HBeAg  HBcAb  HCVAb  Endemic  Smoking  Diabetes  Obesity  Hemochro  AHT  CRI  HIV  NASH  Varices  Spleno  PHT  PVT  Metastasis  Hallmark  Grams_day  Packs_year  Encephalopathy  Ascites  INR  AFP  Hemoglobin  MCV  Leucocytes  Platelets  Albumin  Total_Bil  ALT  AST  GGT  ALP  TP  Creatinine  Nodule  Major_Dim  Dir_Bil  Iron  Sat  Ferritin\n",
      "  1   3  Symptoms  HBsAg  HBeAg  HBcAb  HCVAb  Endemic  Smoking  Diabetes  Obesity  Hemochro  AHT  CRI  HIV  NASH  Varices  Spleno  PHT  PVT  Metastasis  Hallmark  Grams_day  Packs_year  Encephalopathy  Ascites  INR  AFP  Hemoglobin  MCV  Leucocytes  Platelets  Albumin  Total_Bil  ALT  AST  GGT  ALP  TP  Creatinine  Nodule  Major_Dim  Dir_Bil  Iron  Sat  Ferritin\n",
      "  1   4  Symptoms  HBsAg  HBeAg  HBcAb  HCVAb  Endemic  Smoking  Diabetes  Obesity  Hemochro  AHT  CRI  HIV  NASH  Varices  Spleno  PHT  PVT  Metastasis  Hallmark  Grams_day  Packs_year  Encephalopathy  Ascites  INR  AFP  Hemoglobin  MCV  Leucocytes  Platelets  Albumin  Total_Bil  ALT  AST  GGT  ALP  TP  Creatinine  Nodule  Major_Dim  Dir_Bil  Iron  Sat  Ferritin\n",
      "  1   5  Symptoms  HBsAg  HBeAg  HBcAb  HCVAb  Endemic  Smoking  Diabetes  Obesity  Hemochro  AHT  CRI  HIV  NASH  Varices  Spleno  PHT  PVT  Metastasis  Hallmark  Grams_day  Packs_year  Encephalopathy  Ascites  INR  AFP  Hemoglobin  MCV  Leucocytes  Platelets  Albumin  Total_Bil  ALT  AST  GGT  ALP  TP  Creatinine  Nodule  Major_Dim  Dir_Bil  Iron  Sat  Ferritin\n",
      "  2   1  Symptoms  HBsAg  HBeAg  HBcAb  HCVAb  Endemic  Smoking  Diabetes  Obesity  Hemochro  AHT  CRI  HIV  NASH  Varices  Spleno  PHT  PVT  Metastasis  Hallmark  Grams_day  Packs_year  Encephalopathy  Ascites  INR  AFP  Hemoglobin  MCV  Leucocytes  Platelets  Albumin  Total_Bil  ALT  AST  GGT  ALP  TP  Creatinine  Nodule  Major_Dim  Dir_Bil  Iron  Sat  Ferritin\n",
      "  2   2  Symptoms  HBsAg  HBeAg  HBcAb  HCVAb  Endemic  Smoking  Diabetes  Obesity  Hemochro  AHT  CRI  HIV  NASH  Varices  Spleno  PHT  PVT  Metastasis  Hallmark  Grams_day  Packs_year  Encephalopathy  Ascites  INR  AFP  Hemoglobin  MCV  Leucocytes  Platelets  Albumin  Total_Bil  ALT  AST  GGT  ALP  TP  Creatinine  Nodule  Major_Dim  Dir_Bil  Iron  Sat  Ferritin\n",
      "  2   3  Symptoms  HBsAg  HBeAg  HBcAb  HCVAb  Endemic  Smoking  Diabetes  Obesity  Hemochro  AHT  CRI  HIV  NASH  Varices  Spleno  PHT  PVT  Metastasis  Hallmark  Grams_day  Packs_year  Encephalopathy  Ascites  INR  AFP  Hemoglobin  MCV  Leucocytes  Platelets  Albumin  Total_Bil  ALT  AST  GGT  ALP  TP  Creatinine  Nodule  Major_Dim  Dir_Bil  Iron  Sat  Ferritin\n",
      "  2   4  Symptoms  HBsAg  HBeAg  HBcAb  HCVAb  Endemic  Smoking  Diabetes  Obesity  Hemochro  AHT  CRI  HIV  NASH  Varices  Spleno  PHT  PVT  Metastasis  Hallmark  Grams_day  Packs_year  Encephalopathy  Ascites  INR  AFP  Hemoglobin  MCV  Leucocytes  Platelets  Albumin  Total_Bil  ALT  AST  GGT  ALP  TP  Creatinine  Nodule  Major_Dim  Dir_Bil  Iron  Sat  Ferritin\n",
      "  2   5  Symptoms  HBsAg  HBeAg  HBcAb  HCVAb  Endemic  Smoking  Diabetes  Obesity  Hemochro  AHT  CRI  HIV  NASH  Varices  Spleno  PHT  PVT  Metastasis  Hallmark  Grams_day  Packs_year  Encephalopathy  Ascites  INR  AFP  Hemoglobin  MCV  Leucocytes  Platelets  Albumin  Total_Bil  ALT  AST  GGT  ALP  TP  Creatinine  Nodule  Major_Dim  Dir_Bil  Iron  Sat  Ferritin\n",
      "  3   1  Symptoms  HBsAg  HBeAg  HBcAb  HCVAb  Endemic  Smoking  Diabetes  Obesity  Hemochro  AHT  CRI  HIV  NASH  Varices  Spleno  PHT  PVT  Metastasis  Hallmark  Grams_day  Packs_year  Encephalopathy  Ascites  INR  AFP  Hemoglobin  MCV  Leucocytes  Platelets  Albumin  Total_Bil  ALT  AST  GGT  ALP  TP  Creatinine  Nodule  Major_Dim  Dir_Bil  Iron  Sat  Ferritin\n",
      "  3   2  Symptoms  HBsAg  HBeAg  HBcAb  HCVAb  Endemic  Smoking  Diabetes  Obesity  Hemochro  AHT  CRI  HIV  NASH  Varices  Spleno  PHT  PVT  Metastasis  Hallmark  Grams_day  Packs_year  Encephalopathy  Ascites  INR  AFP  Hemoglobin  MCV  Leucocytes  Platelets  Albumin  Total_Bil  ALT  AST  GGT  ALP  TP  Creatinine  Nodule  Major_Dim  Dir_Bil  Iron  Sat  Ferritin\n",
      "  3   3  Symptoms  HBsAg  HBeAg  HBcAb  HCVAb  Endemic  Smoking  Diabetes  Obesity  Hemochro  AHT  CRI  HIV  NASH  Varices  Spleno  PHT  PVT  Metastasis  Hallmark  Grams_day  Packs_year  Encephalopathy  Ascites  INR  AFP  Hemoglobin  MCV  Leucocytes  Platelets  Albumin  Total_Bil  ALT  AST  GGT  ALP  TP  Creatinine  Nodule  Major_Dim  Dir_Bil  Iron  Sat  Ferritin\n",
      "  3   4  Symptoms  HBsAg  HBeAg  HBcAb  HCVAb  Endemic  Smoking  Diabetes  Obesity  Hemochro  AHT  CRI  HIV  NASH  Varices  Spleno  PHT  PVT  Metastasis  Hallmark  Grams_day  Packs_year  Encephalopathy  Ascites  INR  AFP  Hemoglobin  MCV  Leucocytes  Platelets  Albumin  Total_Bil  ALT  AST  GGT  ALP  TP  Creatinine  Nodule  Major_Dim  Dir_Bil  Iron  Sat  Ferritin\n",
      "  3   5  Symptoms  HBsAg  HBeAg  HBcAb  HCVAb  Endemic  Smoking  Diabetes  Obesity  Hemochro  AHT  CRI  HIV  NASH  Varices  Spleno  PHT  PVT  Metastasis  Hallmark  Grams_day  Packs_year  Encephalopathy  Ascites  INR  AFP  Hemoglobin  MCV  Leucocytes  Platelets  Albumin  Total_Bil  ALT  AST  GGT  ALP  TP  Creatinine  Nodule  Major_Dim  Dir_Bil  Iron  Sat  Ferritin\n",
      "  4   1  Symptoms  HBsAg  HBeAg  HBcAb  HCVAb  Endemic  Smoking  Diabetes  Obesity  Hemochro  AHT  CRI  HIV  NASH  Varices  Spleno  PHT  PVT  Metastasis  Hallmark  Grams_day  Packs_year  Encephalopathy  Ascites  INR  AFP  Hemoglobin  MCV  Leucocytes  Platelets  Albumin  Total_Bil  ALT  AST  GGT  ALP  TP  Creatinine  Nodule  Major_Dim  Dir_Bil  Iron  Sat  Ferritin\n",
      "  4   2  Symptoms  HBsAg  HBeAg  HBcAb  HCVAb  Endemic  Smoking  Diabetes  Obesity  Hemochro  AHT  CRI  HIV  NASH  Varices  Spleno  PHT  PVT  Metastasis  Hallmark  Grams_day  Packs_year  Encephalopathy  Ascites  INR  AFP  Hemoglobin  MCV  Leucocytes  Platelets  Albumin  Total_Bil  ALT  AST  GGT  ALP  TP  Creatinine  Nodule  Major_Dim  Dir_Bil  Iron  Sat  Ferritin\n",
      "  4   3  Symptoms  HBsAg  HBeAg  HBcAb  HCVAb  Endemic  Smoking  Diabetes  Obesity  Hemochro  AHT  CRI  HIV  NASH  Varices  Spleno  PHT  PVT  Metastasis  Hallmark  Grams_day  Packs_year  Encephalopathy  Ascites  INR  AFP  Hemoglobin  MCV  Leucocytes  Platelets  Albumin  Total_Bil  ALT  AST  GGT  ALP  TP  Creatinine  Nodule  Major_Dim  Dir_Bil  Iron  Sat  Ferritin\n",
      "  4   4  Symptoms  HBsAg  HBeAg  HBcAb  HCVAb  Endemic  Smoking  Diabetes  Obesity  Hemochro  AHT  CRI  HIV  NASH  Varices  Spleno  PHT  PVT  Metastasis  Hallmark  Grams_day  Packs_year  Encephalopathy  Ascites  INR  AFP  Hemoglobin  MCV  Leucocytes  Platelets  Albumin  Total_Bil  ALT  AST  GGT  ALP  TP  Creatinine  Nodule  Major_Dim  Dir_Bil  Iron  Sat  Ferritin\n",
      "  4   5  Symptoms  HBsAg  HBeAg  HBcAb  HCVAb  Endemic  Smoking  Diabetes  Obesity  Hemochro  AHT  CRI  HIV  NASH  Varices  Spleno  PHT  PVT  Metastasis  Hallmark  Grams_day  Packs_year  Encephalopathy  Ascites  INR  AFP  Hemoglobin  MCV  Leucocytes  Platelets  Albumin  Total_Bil  ALT  AST  GGT  ALP  TP  Creatinine  Nodule  Major_Dim  Dir_Bil  Iron  Sat  Ferritin\n",
      "  5   1  Symptoms  HBsAg  HBeAg  HBcAb  HCVAb  Endemic  Smoking  Diabetes  Obesity  Hemochro  AHT  CRI  HIV  NASH  Varices  Spleno  PHT  PVT  Metastasis  Hallmark  Grams_day  Packs_year  Encephalopathy  Ascites  INR  AFP  Hemoglobin  MCV  Leucocytes  Platelets  Albumin  Total_Bil  ALT  AST  GGT  ALP  TP  Creatinine  Nodule  Major_Dim  Dir_Bil  Iron  Sat  Ferritin\n",
      "  5   2  Symptoms  HBsAg  HBeAg  HBcAb  HCVAb  Endemic  Smoking  Diabetes  Obesity  Hemochro  AHT  CRI  HIV  NASH  Varices  Spleno  PHT  PVT  Metastasis  Hallmark  Grams_day  Packs_year  Encephalopathy  Ascites  INR  AFP  Hemoglobin  MCV  Leucocytes  Platelets  Albumin  Total_Bil  ALT  AST  GGT  ALP  TP  Creatinine  Nodule  Major_Dim  Dir_Bil  Iron  Sat  Ferritin\n",
      "  5   3  Symptoms  HBsAg  HBeAg  HBcAb  HCVAb  Endemic  Smoking  Diabetes  Obesity  Hemochro  AHT  CRI  HIV  NASH  Varices  Spleno  PHT  PVT  Metastasis  Hallmark  Grams_day  Packs_year  Encephalopathy  Ascites  INR  AFP  Hemoglobin  MCV  Leucocytes  Platelets  Albumin  Total_Bil  ALT  AST  GGT  ALP  TP  Creatinine  Nodule  Major_Dim  Dir_Bil  Iron  Sat  Ferritin\n",
      "  5   4  Symptoms  HBsAg  HBeAg  HBcAb  HCVAb  Endemic  Smoking  Diabetes  Obesity  Hemochro  AHT  CRI  HIV  NASH  Varices  Spleno  PHT  PVT  Metastasis  Hallmark  Grams_day  Packs_year  Encephalopathy  Ascites  INR  AFP  Hemoglobin  MCV  Leucocytes  Platelets  Albumin  Total_Bil  ALT  AST  GGT  ALP  TP  Creatinine  Nodule  Major_Dim  Dir_Bil  Iron  Sat  Ferritin\n",
      "  5   5  Symptoms  HBsAg  HBeAg  HBcAb  HCVAb  Endemic  Smoking  Diabetes  Obesity  Hemochro  AHT  CRI  HIV  NASH  Varices  Spleno  PHT  PVT  Metastasis  Hallmark  Grams_day  Packs_year  Encephalopathy  Ascites  INR  AFP  Hemoglobin  MCV  Leucocytes  Platelets  Albumin  Total_Bil  ALT  AST  GGT  ALP  TP  Creatinine  Nodule  Major_Dim  Dir_Bil  Iron  Sat  Ferritin\n"
     ]
    }
   ],
   "source": [
    "imputed <- mice(data_dirty, method = meth)"
   ]
  },
  {
   "cell_type": "code",
   "execution_count": 10,
   "metadata": {},
   "outputs": [],
   "source": [
    "data_imputed <- complete(imputed)"
   ]
  },
  {
   "cell_type": "code",
   "execution_count": 11,
   "metadata": {},
   "outputs": [
    {
     "data": {
      "text/html": [
       "<dl class=dl-horizontal>\n",
       "\t<dt>Gender</dt>\n",
       "\t\t<dd>0</dd>\n",
       "\t<dt>Symptoms</dt>\n",
       "\t\t<dd>0</dd>\n",
       "\t<dt>Alcohol</dt>\n",
       "\t\t<dd>0</dd>\n",
       "\t<dt>HBsAg</dt>\n",
       "\t\t<dd>0</dd>\n",
       "\t<dt>HBeAg</dt>\n",
       "\t\t<dd>0</dd>\n",
       "\t<dt>HBcAb</dt>\n",
       "\t\t<dd>0</dd>\n",
       "\t<dt>HCVAb</dt>\n",
       "\t\t<dd>0</dd>\n",
       "\t<dt>Cirrhosis</dt>\n",
       "\t\t<dd>0</dd>\n",
       "\t<dt>Endemic</dt>\n",
       "\t\t<dd>0</dd>\n",
       "\t<dt>Smoking</dt>\n",
       "\t\t<dd>0</dd>\n",
       "\t<dt>Diabetes</dt>\n",
       "\t\t<dd>0</dd>\n",
       "\t<dt>Obesity</dt>\n",
       "\t\t<dd>0</dd>\n",
       "\t<dt>Hemochro</dt>\n",
       "\t\t<dd>0</dd>\n",
       "\t<dt>AHT</dt>\n",
       "\t\t<dd>0</dd>\n",
       "\t<dt>CRI</dt>\n",
       "\t\t<dd>0</dd>\n",
       "\t<dt>HIV</dt>\n",
       "\t\t<dd>0</dd>\n",
       "\t<dt>NASH</dt>\n",
       "\t\t<dd>0</dd>\n",
       "\t<dt>Varices</dt>\n",
       "\t\t<dd>0</dd>\n",
       "\t<dt>Spleno</dt>\n",
       "\t\t<dd>0</dd>\n",
       "\t<dt>PHT</dt>\n",
       "\t\t<dd>0</dd>\n",
       "\t<dt>PVT</dt>\n",
       "\t\t<dd>0</dd>\n",
       "\t<dt>Metastasis</dt>\n",
       "\t\t<dd>0</dd>\n",
       "\t<dt>Hallmark</dt>\n",
       "\t\t<dd>0</dd>\n",
       "\t<dt>Age</dt>\n",
       "\t\t<dd>0</dd>\n",
       "\t<dt>Grams_day</dt>\n",
       "\t\t<dd>0</dd>\n",
       "\t<dt>Packs_year</dt>\n",
       "\t\t<dd>0</dd>\n",
       "\t<dt>PS</dt>\n",
       "\t\t<dd>0</dd>\n",
       "\t<dt>Encephalopathy</dt>\n",
       "\t\t<dd>0</dd>\n",
       "\t<dt>Ascites</dt>\n",
       "\t\t<dd>0</dd>\n",
       "\t<dt>INR</dt>\n",
       "\t\t<dd>0</dd>\n",
       "\t<dt>AFP</dt>\n",
       "\t\t<dd>0</dd>\n",
       "\t<dt>Hemoglobin</dt>\n",
       "\t\t<dd>0</dd>\n",
       "\t<dt>MCV</dt>\n",
       "\t\t<dd>0</dd>\n",
       "\t<dt>Leucocytes</dt>\n",
       "\t\t<dd>0</dd>\n",
       "\t<dt>Platelets</dt>\n",
       "\t\t<dd>0</dd>\n",
       "\t<dt>Albumin</dt>\n",
       "\t\t<dd>0</dd>\n",
       "\t<dt>Total_Bil</dt>\n",
       "\t\t<dd>0</dd>\n",
       "\t<dt>ALT</dt>\n",
       "\t\t<dd>0</dd>\n",
       "\t<dt>AST</dt>\n",
       "\t\t<dd>0</dd>\n",
       "\t<dt>GGT</dt>\n",
       "\t\t<dd>0</dd>\n",
       "\t<dt>ALP</dt>\n",
       "\t\t<dd>0</dd>\n",
       "\t<dt>TP</dt>\n",
       "\t\t<dd>0</dd>\n",
       "\t<dt>Creatinine</dt>\n",
       "\t\t<dd>0</dd>\n",
       "\t<dt>Nodule</dt>\n",
       "\t\t<dd>0</dd>\n",
       "\t<dt>Major_Dim</dt>\n",
       "\t\t<dd>0</dd>\n",
       "\t<dt>Dir_Bil</dt>\n",
       "\t\t<dd>0</dd>\n",
       "\t<dt>Iron</dt>\n",
       "\t\t<dd>0</dd>\n",
       "\t<dt>Sat</dt>\n",
       "\t\t<dd>0</dd>\n",
       "\t<dt>Ferritin</dt>\n",
       "\t\t<dd>0</dd>\n",
       "\t<dt>Class</dt>\n",
       "\t\t<dd>0</dd>\n",
       "</dl>\n"
      ],
      "text/latex": [
       "\\begin{description*}\n",
       "\\item[Gender] 0\n",
       "\\item[Symptoms] 0\n",
       "\\item[Alcohol] 0\n",
       "\\item[HBsAg] 0\n",
       "\\item[HBeAg] 0\n",
       "\\item[HBcAb] 0\n",
       "\\item[HCVAb] 0\n",
       "\\item[Cirrhosis] 0\n",
       "\\item[Endemic] 0\n",
       "\\item[Smoking] 0\n",
       "\\item[Diabetes] 0\n",
       "\\item[Obesity] 0\n",
       "\\item[Hemochro] 0\n",
       "\\item[AHT] 0\n",
       "\\item[CRI] 0\n",
       "\\item[HIV] 0\n",
       "\\item[NASH] 0\n",
       "\\item[Varices] 0\n",
       "\\item[Spleno] 0\n",
       "\\item[PHT] 0\n",
       "\\item[PVT] 0\n",
       "\\item[Metastasis] 0\n",
       "\\item[Hallmark] 0\n",
       "\\item[Age] 0\n",
       "\\item[Grams\\textbackslash{}\\_day] 0\n",
       "\\item[Packs\\textbackslash{}\\_year] 0\n",
       "\\item[PS] 0\n",
       "\\item[Encephalopathy] 0\n",
       "\\item[Ascites] 0\n",
       "\\item[INR] 0\n",
       "\\item[AFP] 0\n",
       "\\item[Hemoglobin] 0\n",
       "\\item[MCV] 0\n",
       "\\item[Leucocytes] 0\n",
       "\\item[Platelets] 0\n",
       "\\item[Albumin] 0\n",
       "\\item[Total\\textbackslash{}\\_Bil] 0\n",
       "\\item[ALT] 0\n",
       "\\item[AST] 0\n",
       "\\item[GGT] 0\n",
       "\\item[ALP] 0\n",
       "\\item[TP] 0\n",
       "\\item[Creatinine] 0\n",
       "\\item[Nodule] 0\n",
       "\\item[Major\\textbackslash{}\\_Dim] 0\n",
       "\\item[Dir\\textbackslash{}\\_Bil] 0\n",
       "\\item[Iron] 0\n",
       "\\item[Sat] 0\n",
       "\\item[Ferritin] 0\n",
       "\\item[Class] 0\n",
       "\\end{description*}\n"
      ],
      "text/markdown": [
       "Gender\n",
       ":   0Symptoms\n",
       ":   0Alcohol\n",
       ":   0HBsAg\n",
       ":   0HBeAg\n",
       ":   0HBcAb\n",
       ":   0HCVAb\n",
       ":   0Cirrhosis\n",
       ":   0Endemic\n",
       ":   0Smoking\n",
       ":   0Diabetes\n",
       ":   0Obesity\n",
       ":   0Hemochro\n",
       ":   0AHT\n",
       ":   0CRI\n",
       ":   0HIV\n",
       ":   0NASH\n",
       ":   0Varices\n",
       ":   0Spleno\n",
       ":   0PHT\n",
       ":   0PVT\n",
       ":   0Metastasis\n",
       ":   0Hallmark\n",
       ":   0Age\n",
       ":   0Grams_day\n",
       ":   0Packs_year\n",
       ":   0PS\n",
       ":   0Encephalopathy\n",
       ":   0Ascites\n",
       ":   0INR\n",
       ":   0AFP\n",
       ":   0Hemoglobin\n",
       ":   0MCV\n",
       ":   0Leucocytes\n",
       ":   0Platelets\n",
       ":   0Albumin\n",
       ":   0Total_Bil\n",
       ":   0ALT\n",
       ":   0AST\n",
       ":   0GGT\n",
       ":   0ALP\n",
       ":   0TP\n",
       ":   0Creatinine\n",
       ":   0Nodule\n",
       ":   0Major_Dim\n",
       ":   0Dir_Bil\n",
       ":   0Iron\n",
       ":   0Sat\n",
       ":   0Ferritin\n",
       ":   0Class\n",
       ":   0\n",
       "\n"
      ],
      "text/plain": [
       "        Gender       Symptoms        Alcohol          HBsAg          HBeAg \n",
       "             0              0              0              0              0 \n",
       "         HBcAb          HCVAb      Cirrhosis        Endemic        Smoking \n",
       "             0              0              0              0              0 \n",
       "      Diabetes        Obesity       Hemochro            AHT            CRI \n",
       "             0              0              0              0              0 \n",
       "           HIV           NASH        Varices         Spleno            PHT \n",
       "             0              0              0              0              0 \n",
       "           PVT     Metastasis       Hallmark            Age      Grams_day \n",
       "             0              0              0              0              0 \n",
       "    Packs_year             PS Encephalopathy        Ascites            INR \n",
       "             0              0              0              0              0 \n",
       "           AFP     Hemoglobin            MCV     Leucocytes      Platelets \n",
       "             0              0              0              0              0 \n",
       "       Albumin      Total_Bil            ALT            AST            GGT \n",
       "             0              0              0              0              0 \n",
       "           ALP             TP     Creatinine         Nodule      Major_Dim \n",
       "             0              0              0              0              0 \n",
       "       Dir_Bil           Iron            Sat       Ferritin          Class \n",
       "             0              0              0              0              0 "
      ]
     },
     "metadata": {},
     "output_type": "display_data"
    }
   ],
   "source": [
    "sapply(data_imputed, function(x) sum(is.na(x)))"
   ]
  },
  {
   "cell_type": "markdown",
   "metadata": {},
   "source": [
    "**now that the data is imputed let\\`s check the summary to make sure nothing is wrong**"
   ]
  },
  {
   "cell_type": "code",
   "execution_count": 12,
   "metadata": {
    "scrolled": false
   },
   "outputs": [
    {
     "data": {
      "text/plain": [
       "     Gender          Symptoms        Alcohol           HBsAg       \n",
       " Min.   :0.0000   Min.   :0.000   Min.   :0.0000   Min.   :0.0000  \n",
       " 1st Qu.:1.0000   1st Qu.:0.000   1st Qu.:0.0000   1st Qu.:0.0000  \n",
       " Median :1.0000   Median :1.000   Median :1.0000   Median :0.0000  \n",
       " Mean   :0.8049   Mean   :0.628   Mean   :0.7378   Mean   :0.1037  \n",
       " 3rd Qu.:1.0000   3rd Qu.:1.000   3rd Qu.:1.0000   3rd Qu.:0.0000  \n",
       " Max.   :1.0000   Max.   :1.000   Max.   :1.0000   Max.   :1.0000  \n",
       "     HBeAg              HBcAb            HCVAb          Cirrhosis     \n",
       " Min.   :0.000000   Min.   :0.0000   Min.   :0.0000   Min.   :0.0000  \n",
       " 1st Qu.:0.000000   1st Qu.:0.0000   1st Qu.:0.0000   1st Qu.:1.0000  \n",
       " Median :0.000000   Median :0.0000   Median :0.0000   Median :1.0000  \n",
       " Mean   :0.006098   Mean   :0.2439   Mean   :0.2195   Mean   :0.9024  \n",
       " 3rd Qu.:0.000000   3rd Qu.:0.0000   3rd Qu.:0.0000   3rd Qu.:1.0000  \n",
       " Max.   :1.000000   Max.   :1.0000   Max.   :1.0000   Max.   :1.0000  \n",
       "    Endemic           Smoking          Diabetes         Obesity     \n",
       " Min.   :0.00000   Min.   :0.0000   Min.   :0.0000   Min.   :0.000  \n",
       " 1st Qu.:0.00000   1st Qu.:0.0000   1st Qu.:0.0000   1st Qu.:0.000  \n",
       " Median :0.00000   Median :1.0000   Median :0.0000   Median :0.000  \n",
       " Mean   :0.07317   Mean   :0.6098   Mean   :0.3476   Mean   :0.128  \n",
       " 3rd Qu.:0.00000   3rd Qu.:1.0000   3rd Qu.:1.0000   3rd Qu.:0.000  \n",
       " Max.   :1.00000   Max.   :1.0000   Max.   :1.0000   Max.   :1.000  \n",
       "    Hemochro            AHT             CRI             HIV         \n",
       " Min.   :0.00000   Min.   :0.000   Min.   :0.000   Min.   :0.00000  \n",
       " 1st Qu.:0.00000   1st Qu.:0.000   1st Qu.:0.000   1st Qu.:0.00000  \n",
       " Median :0.00000   Median :0.000   Median :0.000   Median :0.00000  \n",
       " Mean   :0.04268   Mean   :0.372   Mean   :0.122   Mean   :0.01829  \n",
       " 3rd Qu.:0.00000   3rd Qu.:1.000   3rd Qu.:0.000   3rd Qu.:0.00000  \n",
       " Max.   :1.00000   Max.   :1.000   Max.   :1.000   Max.   :1.00000  \n",
       "      NASH            Varices          Spleno            PHT        \n",
       " Min.   :0.00000   Min.   :0.000   Min.   :0.0000   Min.   :0.0000  \n",
       " 1st Qu.:0.00000   1st Qu.:0.000   1st Qu.:0.0000   1st Qu.:0.0000  \n",
       " Median :0.00000   Median :1.000   Median :1.0000   Median :1.0000  \n",
       " Mean   :0.05488   Mean   :0.622   Mean   :0.5793   Mean   :0.7256  \n",
       " 3rd Qu.:0.00000   3rd Qu.:1.000   3rd Qu.:1.0000   3rd Qu.:1.0000  \n",
       " Max.   :1.00000   Max.   :1.000   Max.   :1.0000   Max.   :1.0000  \n",
       "      PVT           Metastasis        Hallmark           Age       \n",
       " Min.   :0.0000   Min.   :0.0000   Min.   :0.0000   Min.   :20.00  \n",
       " 1st Qu.:0.0000   1st Qu.:0.0000   1st Qu.:0.0000   1st Qu.:57.00  \n",
       " Median :0.0000   Median :0.0000   Median :1.0000   Median :66.00  \n",
       " Mean   :0.2317   Mean   :0.2195   Mean   :0.6829   Mean   :64.68  \n",
       " 3rd Qu.:0.0000   3rd Qu.:0.0000   3rd Qu.:1.0000   3rd Qu.:74.00  \n",
       " Max.   :1.0000   Max.   :1.0000   Max.   :1.0000   Max.   :93.00  \n",
       "   Grams_day        Packs_year           PS        Encephalopathy \n",
       " Min.   :  0.00   Min.   :  0.00   Min.   :0.000   Min.   :1.000  \n",
       " 1st Qu.:  0.00   1st Qu.:  0.00   1st Qu.:0.000   1st Qu.:1.000  \n",
       " Median : 70.44   Median : 20.51   Median :1.000   Median :1.000  \n",
       " Mean   : 70.44   Mean   : 20.51   Mean   :1.024   Mean   :1.159  \n",
       " 3rd Qu.:100.00   3rd Qu.: 20.51   3rd Qu.:2.000   3rd Qu.:1.000  \n",
       " Max.   :500.00   Max.   :510.00   Max.   :4.000   Max.   :3.000  \n",
       "    Ascites           INR             AFP              Hemoglobin   \n",
       " Min.   :1.000   Min.   :0.840   Min.   :      1.2   Min.   : 5.00  \n",
       " 1st Qu.:1.000   1st Qu.:1.177   1st Qu.:      5.2   1st Qu.:11.47  \n",
       " Median :1.000   Median :1.310   Median :     41.5   Median :13.00  \n",
       " Mean   :1.439   Mean   :1.421   Mean   :  19423.1   Mean   :12.87  \n",
       " 3rd Qu.:2.000   3rd Qu.:1.522   3rd Qu.:    983.5   3rd Qu.:14.60  \n",
       " Max.   :3.000   Max.   :4.820   Max.   :1810346.0   Max.   :18.70  \n",
       "      MCV           Leucocytes          Platelets           Albumin     \n",
       " Min.   : 69.50   Min.   :    2.200   Min.   :     1.7   Min.   :1.900  \n",
       " 1st Qu.: 89.92   1st Qu.:    5.175   1st Qu.:   275.2   1st Qu.:3.075  \n",
       " Median : 95.05   Median :    7.450   Median : 95000.0   Median :3.446  \n",
       " Mean   : 95.05   Mean   : 1483.086   Mean   :113909.0   Mean   :3.446  \n",
       " 3rd Qu.:100.22   3rd Qu.:  404.222   3rd Qu.:170500.0   3rd Qu.:4.000  \n",
       " Max.   :119.60   Max.   :13000.000   Max.   :459000.0   Max.   :4.900  \n",
       "   Total_Bil           ALT              AST              GGT         \n",
       " Min.   : 0.300   Min.   : 11.00   Min.   : 17.00   Min.   :  23.00  \n",
       " 1st Qu.: 0.875   1st Qu.: 31.00   1st Qu.: 47.00   1st Qu.:  91.75  \n",
       " Median : 1.400   Median : 50.00   Median : 73.00   Median : 182.00  \n",
       " Mean   : 3.094   Mean   : 67.30   Mean   : 96.73   Mean   : 268.55  \n",
       " 3rd Qu.: 3.094   3rd Qu.: 77.25   3rd Qu.:108.75   3rd Qu.: 343.75  \n",
       " Max.   :40.500   Max.   :420.00   Max.   :553.00   Max.   :1575.00  \n",
       "      ALP               TP            Creatinine        Nodule     \n",
       " Min.   :  1.28   Min.   :  3.900   Min.   :0.200   Min.   :0.000  \n",
       " 1st Qu.:108.75   1st Qu.:  6.400   1st Qu.:0.710   1st Qu.:1.000  \n",
       " Median :164.00   Median :  7.100   Median :0.865   Median :2.000  \n",
       " Mean   :212.60   Mean   :  8.973   Mean   :1.130   Mean   :2.747  \n",
       " 3rd Qu.:260.50   3rd Qu.:  7.700   3rd Qu.:1.130   3rd Qu.:5.000  \n",
       " Max.   :980.00   Max.   :102.000   Max.   :7.600   Max.   :5.000  \n",
       "   Major_Dim         Dir_Bil            Iron             Sat        \n",
       " Min.   : 1.500   Min.   : 0.100   Min.   :  0.00   Min.   :  0.00  \n",
       " 1st Qu.: 3.000   1st Qu.: 0.500   1st Qu.: 77.25   1st Qu.: 27.00  \n",
       " Median : 6.100   Median : 1.200   Median : 85.60   Median : 37.03  \n",
       " Mean   : 6.874   Mean   : 1.942   Mean   : 85.60   Mean   : 37.03  \n",
       " 3rd Qu.: 8.575   3rd Qu.: 1.942   3rd Qu.: 85.95   3rd Qu.: 37.03  \n",
       " Max.   :22.000   Max.   :29.300   Max.   :224.00   Max.   :126.00  \n",
       "    Ferritin    Class  \n",
       " Min.   :   0   0: 63  \n",
       " 1st Qu.: 282   1:101  \n",
       " Median : 439          \n",
       " Mean   : 439          \n",
       " 3rd Qu.: 439          \n",
       " Max.   :2230          "
      ]
     },
     "metadata": {},
     "output_type": "display_data"
    }
   ],
   "source": [
    "summary(data_imputed)"
   ]
  },
  {
   "cell_type": "markdown",
   "metadata": {},
   "source": [
    "# Training the data\n",
    "### with our data free of missing values we can proceed into the training \n",
    "**we loaded the class feature as a factor for prediction**"
   ]
  },
  {
   "cell_type": "code",
   "execution_count": 13,
   "metadata": {},
   "outputs": [
    {
     "data": {
      "text/html": [
       "<ol class=list-inline>\n",
       "\t<li>'X0'</li>\n",
       "\t<li>'X1'</li>\n",
       "</ol>\n"
      ],
      "text/latex": [
       "\\begin{enumerate*}\n",
       "\\item 'X0'\n",
       "\\item 'X1'\n",
       "\\end{enumerate*}\n"
      ],
      "text/markdown": [
       "1. 'X0'\n",
       "2. 'X1'\n",
       "\n",
       "\n"
      ],
      "text/plain": [
       "[1] \"X0\" \"X1\""
      ]
     },
     "metadata": {},
     "output_type": "display_data"
    }
   ],
   "source": [
    "data_imputed$Class <- make.names(data_imputed$Class)\n",
    "data_imputed$Class <- as.factor(data_imputed$Class) # needed for algorithms below\n",
    "levels(data_imputed$Class)"
   ]
  },
  {
   "cell_type": "markdown",
   "metadata": {},
   "source": [
    "**we split the data with ratio 0.8 for training** "
   ]
  },
  {
   "cell_type": "code",
   "execution_count": 14,
   "metadata": {},
   "outputs": [
    {
     "name": "stderr",
     "output_type": "stream",
     "text": [
      "Loading required package: ggplot2\n",
      "Registered S3 methods overwritten by 'ggplot2':\n",
      "  method         from \n",
      "  [.quosures     rlang\n",
      "  c.quosures     rlang\n",
      "  print.quosures rlang\n"
     ]
    }
   ],
   "source": [
    "# splitting the data\n",
    "library(caret)\n",
    "\n",
    "set.seed(123)\n",
    "trainIndex = createDataPartition(y = data_imputed$Class, p=0.80, list=FALSE, times=1)\n",
    "\n",
    "x_train <- data_imputed[trainIndex, ]\n",
    "x_test  <- data_imputed[-trainIndex, ]"
   ]
  },
  {
   "cell_type": "code",
   "execution_count": 15,
   "metadata": {},
   "outputs": [
    {
     "data": {
      "text/html": [
       "132"
      ],
      "text/latex": [
       "132"
      ],
      "text/markdown": [
       "132"
      ],
      "text/plain": [
       "[1] 132"
      ]
     },
     "metadata": {},
     "output_type": "display_data"
    },
    {
     "data": {
      "text/html": [
       "32"
      ],
      "text/latex": [
       "32"
      ],
      "text/markdown": [
       "32"
      ],
      "text/plain": [
       "[1] 32"
      ]
     },
     "metadata": {},
     "output_type": "display_data"
    }
   ],
   "source": [
    "nrow(x_train)\n",
    "nrow(x_test)"
   ]
  },
  {
   "cell_type": "markdown",
   "metadata": {},
   "source": [
    "# Logistic Regression\n",
    "\n",
    "## using GLMnet for prediction\n",
    "**we used trainControl Cross-validation function with 10 folds and 3 repeates with the calculation of class probabilites \n",
    "and a summary function that computes the required metrics**\n",
    "\n",
    "**for more illustration here\\`s the equation used in the glmnet algorithm which shows percisely the parameters tuned in the search** \n",
    "\n",
    "**as $\\alpha$ is the mixing ratio between L2 and L1 regularizations** \n",
    "**and $\\lambda$ is the penality for the regularization**\n",
    "\n",
    "**using Preproc center and scaling for standardization of the values where we noted that inputs have high sparsity of values which would affect a distance model like Logisitc regression and KNN**\n",
    "\n",
    "\n",
    "$ \\min_{(\\beta_0, \\beta) \\in \\mathbb{R}^{p+1}} -\\left[\\frac{1}{N} \\sum_{i=1}^N y_i \\cdot (\\beta_0 + x_i^T \\beta) - \\log (1+e^{(\\beta_0+x_i^T \\beta)})\\right] + \\lambda \\big[ (1-\\alpha)||\\beta||_2^2/2 + \\alpha||\\beta||_1\\big]$\n"
   ]
  },
  {
   "cell_type": "code",
   "execution_count": 48,
   "metadata": {
    "scrolled": false
   },
   "outputs": [],
   "source": [
    "# cross validator \n",
    "ctrl <- trainControl(\n",
    "  method = \"repeatedcv\",\n",
    "  repeats = 3, \n",
    "  classProbs = TRUE, \n",
    "  summaryFunction = twoClassSummary  \n",
    ")\n",
    "\n",
    "#setting seed to prevent randomness \n",
    "set.seed(123)\n",
    "\n",
    "# the model training \n",
    "glmFit <- train(\n",
    "  Class ~ .,\n",
    "  data = x_train,\n",
    "  method = \"glmnet\",\n",
    "  preProc = c(\"center\", \"scale\"),\n",
    "  tuneLength = 20,\n",
    "  trControl = ctrl,\n",
    "  metric = \"Acccuracy\"\n",
    ")"
   ]
  },
  {
   "cell_type": "code",
   "execution_count": 49,
   "metadata": {},
   "outputs": [
    {
     "data": {
      "text/html": [
       "<table>\n",
       "<thead><tr><th></th><th scope=col>alpha</th><th scope=col>lambda</th></tr></thead>\n",
       "<tbody>\n",
       "\t<tr><th scope=row>194</th><td>0.5263158 </td><td>0.01744674</td></tr>\n",
       "</tbody>\n",
       "</table>\n"
      ],
      "text/latex": [
       "\\begin{tabular}{r|ll}\n",
       "  & alpha & lambda\\\\\n",
       "\\hline\n",
       "\t194 & 0.5263158  & 0.01744674\\\\\n",
       "\\end{tabular}\n"
      ],
      "text/markdown": [
       "\n",
       "| <!--/--> | alpha | lambda |\n",
       "|---|---|---|\n",
       "| 194 | 0.5263158  | 0.01744674 |\n",
       "\n"
      ],
      "text/plain": [
       "    alpha     lambda    \n",
       "194 0.5263158 0.01744674"
      ]
     },
     "metadata": {},
     "output_type": "display_data"
    }
   ],
   "source": [
    "glmFit$bestTune"
   ]
  },
  {
   "cell_type": "code",
   "execution_count": 50,
   "metadata": {},
   "outputs": [
    {
     "data": {
      "image/png": "[encoded data removed]",
      "text/plain": [
       "plot without title"
      ]
     },
     "metadata": {},
     "output_type": "display_data"
    }
   ],
   "source": [
    "ggplot(glmFit)"
   ]
  },
  {
   "cell_type": "code",
   "execution_count": 51,
   "metadata": {},
   "outputs": [
    {
     "name": "stdout",
     "output_type": "stream",
     "text": [
      " Factor w/ 2 levels \"X0\",\"X1\": 2 2 2 1 1 2 2 1 1 2 ...\n"
     ]
    }
   ],
   "source": [
    "glmClasses <- predict(glmFit, newdata = x_test)\n",
    "str(glmClasses)"
   ]
  },
  {
   "cell_type": "code",
   "execution_count": 52,
   "metadata": {},
   "outputs": [
    {
     "data": {
      "text/plain": [
       "Confusion Matrix and Statistics\n",
       "\n",
       "          Reference\n",
       "Prediction X0 X1\n",
       "        X0  9  5\n",
       "        X1  3 15\n",
       "                                         \n",
       "               Accuracy : 0.75           \n",
       "                 95% CI : (0.566, 0.8854)\n",
       "    No Information Rate : 0.625          \n",
       "    P-Value [Acc > NIR] : 0.09838        \n",
       "                                         \n",
       "                  Kappa : 0.4839         \n",
       "                                         \n",
       " Mcnemar's Test P-Value : 0.72367        \n",
       "                                         \n",
       "            Sensitivity : 0.7500         \n",
       "            Specificity : 0.7500         \n",
       "         Pos Pred Value : 0.6429         \n",
       "         Neg Pred Value : 0.8333         \n",
       "             Prevalence : 0.3750         \n",
       "         Detection Rate : 0.2812         \n",
       "   Detection Prevalence : 0.4375         \n",
       "      Balanced Accuracy : 0.7500         \n",
       "                                         \n",
       "       'Positive' Class : X0             \n",
       "                                         "
      ]
     },
     "metadata": {},
     "output_type": "display_data"
    }
   ],
   "source": [
    "confusionMatrix(data = glmClasses, x_test$Class)\n",
    "# levels(x_test$Class)"
   ]
  },
  {
   "cell_type": "markdown",
   "metadata": {},
   "source": [
    "# k-Nearest Neighbors \n",
    "\n",
    "![knns](https://miro.medium.com/max/613/0*AQeJZfMd1z-vx4iH.png \"KNN\")\n",
    "**a brief representation for the knn algorithm as shown the main parameter of this algorithm in K**"
   ]
  },
  {
   "cell_type": "code",
   "execution_count": 41,
   "metadata": {},
   "outputs": [
    {
     "data": {
      "text/html": [
       "<table>\n",
       "<thead><tr><th></th><th scope=col>k</th></tr></thead>\n",
       "<tbody>\n",
       "\t<tr><th scope=row>27</th><td>57</td></tr>\n",
       "</tbody>\n",
       "</table>\n"
      ],
      "text/latex": [
       "\\begin{tabular}{r|l}\n",
       "  & k\\\\\n",
       "\\hline\n",
       "\t27 & 57\\\\\n",
       "\\end{tabular}\n"
      ],
      "text/markdown": [
       "\n",
       "| <!--/--> | k |\n",
       "|---|---|\n",
       "| 27 | 57 |\n",
       "\n"
      ],
      "text/plain": [
       "   k \n",
       "27 57"
      ]
     },
     "metadata": {},
     "output_type": "display_data"
    }
   ],
   "source": [
    "set.seed(123)\n",
    "\n",
    "# Model\n",
    "knnFit <- train(\n",
    "  Class ~ .,\n",
    "  data = x_train,\n",
    "  method = \"knn\",\n",
    "  preProc = c(\"center\", \"scale\"),\n",
    "  tuneLength = 60,\n",
    "  trControl = ctrl,\n",
    "  metric = \"Accuracy\")\n",
    "\n",
    "knnFit$bestTune"
   ]
  },
  {
   "cell_type": "code",
   "execution_count": 42,
   "metadata": {},
   "outputs": [
    {
     "data": {
      "image/png": "[encoded data removed]",
      "text/plain": [
       "plot without title"
      ]
     },
     "metadata": {},
     "output_type": "display_data"
    }
   ],
   "source": [
    "ggplot(knnFit)"
   ]
  },
  {
   "cell_type": "code",
   "execution_count": 43,
   "metadata": {},
   "outputs": [
    {
     "data": {
      "text/plain": [
       "Confusion Matrix and Statistics\n",
       "\n",
       "          Reference\n",
       "Prediction X0 X1\n",
       "        X0  0  0\n",
       "        X1 12 20\n",
       "                                         \n",
       "               Accuracy : 0.625          \n",
       "                 95% CI : (0.4369, 0.789)\n",
       "    No Information Rate : 0.625          \n",
       "    P-Value [Acc > NIR] : 0.578080       \n",
       "                                         \n",
       "                  Kappa : 0              \n",
       "                                         \n",
       " Mcnemar's Test P-Value : 0.001496       \n",
       "                                         \n",
       "            Sensitivity : 0.000          \n",
       "            Specificity : 1.000          \n",
       "         Pos Pred Value :   NaN          \n",
       "         Neg Pred Value : 0.625          \n",
       "             Prevalence : 0.375          \n",
       "         Detection Rate : 0.000          \n",
       "   Detection Prevalence : 0.000          \n",
       "      Balanced Accuracy : 0.500          \n",
       "                                         \n",
       "       'Positive' Class : X0             \n",
       "                                         "
      ]
     },
     "metadata": {},
     "output_type": "display_data"
    }
   ],
   "source": [
    "knnPredict <- predict(knnFit,newdata = x_test)\n",
    "confusionMatrix(knnPredict, x_test$Class)"
   ]
  },
  {
   "cell_type": "markdown",
   "metadata": {},
   "source": [
    "# Naiieve Bayes\n",
    "\n",
    "![nb](https://www.saedsayad.com/images/Bayes_rule.png \"NB\")\n",
    "\n",
    "**a Brief representation of the Naive Bayes algorithms which mainly depends on Bayes Rule**"
   ]
  },
  {
   "cell_type": "code",
   "execution_count": 46,
   "metadata": {},
   "outputs": [
    {
     "data": {
      "text/plain": [
       "Naive Bayes \n",
       "\n",
       "132 samples\n",
       " 49 predictor\n",
       "  2 classes: 'X0', 'X1' \n",
       "\n",
       "Pre-processing: centered (49), scaled (49) \n",
       "Resampling: Cross-Validated (10 fold, repeated 3 times) \n",
       "Summary of sample sizes: 118, 118, 119, 119, 119, 119, ... \n",
       "Resampling results across tuning parameters:\n",
       "\n",
       "  usekernel  ROC        Sens       Spec     \n",
       "  FALSE      0.7063735  0.3733333  0.8217593\n",
       "   TRUE      0.6520216  0.2988889  0.7819444\n",
       "\n",
       "Tuning parameter 'laplace' was held constant at a value of 0\n",
       "Tuning\n",
       " parameter 'adjust' was held constant at a value of 1\n",
       "ROC was used to select the optimal model using the largest value.\n",
       "The final values used for the model were laplace = 0, usekernel = FALSE\n",
       " and adjust = 1."
      ]
     },
     "metadata": {},
     "output_type": "display_data"
    }
   ],
   "source": [
    "set.seed(123)\n",
    "\n",
    "# Model\n",
    "nbFit <- train(\n",
    "  Class ~ .,\n",
    "  data = x_train,\n",
    "  method = \"naive_bayes\",\n",
    "  preProc = c(\"center\", \"scale\"),\n",
    "  trControl = ctrl,\n",
    "  metric = \"Accuracy\")\n",
    "\n",
    "nbFit"
   ]
  },
  {
   "cell_type": "code",
   "execution_count": 47,
   "metadata": {},
   "outputs": [
    {
     "data": {
      "text/plain": [
       "Confusion Matrix and Statistics\n",
       "\n",
       "          Reference\n",
       "Prediction X0 X1\n",
       "        X0  5  3\n",
       "        X1  7 17\n",
       "                                          \n",
       "               Accuracy : 0.6875          \n",
       "                 95% CI : (0.4999, 0.8388)\n",
       "    No Information Rate : 0.625           \n",
       "    P-Value [Acc > NIR] : 0.2961          \n",
       "                                          \n",
       "                  Kappa : 0.2857          \n",
       "                                          \n",
       " Mcnemar's Test P-Value : 0.3428          \n",
       "                                          \n",
       "            Sensitivity : 0.4167          \n",
       "            Specificity : 0.8500          \n",
       "         Pos Pred Value : 0.6250          \n",
       "         Neg Pred Value : 0.7083          \n",
       "             Prevalence : 0.3750          \n",
       "         Detection Rate : 0.1562          \n",
       "   Detection Prevalence : 0.2500          \n",
       "      Balanced Accuracy : 0.6333          \n",
       "                                          \n",
       "       'Positive' Class : X0              \n",
       "                                          "
      ]
     },
     "metadata": {},
     "output_type": "display_data"
    }
   ],
   "source": [
    "nbPredict <- predict(nbFit,newdata = x_test)\n",
    "confusionMatrix(nbPredict, x_test$Class)"
   ]
  },
  {
   "cell_type": "markdown",
   "metadata": {},
   "source": [
    "# Next Steps \n",
    "**Models accuracies are a bit decent but we aspire for more so these are the proposed steps that we will dol next**\n",
    "- Exploratory Data Analysis : we want to know our data better and visualize how each feature affect the output \n",
    "- Feature Selection : as you noticed we used the 49 features in our predictions which is not effective \n",
    "- Prevent models from Overfitting or underfitting "
   ]
  },
  {
   "cell_type": "code",
   "execution_count": null,
   "metadata": {},
   "outputs": [],
   "source": []
  }
 ],
 "metadata": {
  "kernelspec": {
   "display_name": "R",
   "language": "R",
   "name": "ir"
  },
  "language_info": {
   "codemirror_mode": "r",
   "file_extension": ".r",
   "mimetype": "text/x-r-source",
   "name": "R",
   "pygments_lexer": "r",
   "version": "3.6.1"
  }
 },
 "nbformat": 4,
 "nbformat_minor": 2
}
